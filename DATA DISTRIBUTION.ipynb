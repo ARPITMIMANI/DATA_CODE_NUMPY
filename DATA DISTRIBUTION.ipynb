{
 "cells": [
  {
   "cell_type": "code",
   "execution_count": 1,
   "id": "2752218b",
   "metadata": {},
   "outputs": [
    {
     "name": "stdout",
     "output_type": "stream",
     "text": [
      "[18 14 12 12 14 12 14 12 12 12 16 16 12 12 18 14 12 14 12 18]\n"
     ]
    }
   ],
   "source": [
    "# DATA DISTRIBUTION : IT IS A LIST OF ALL POSSIBLE VALUE AND HOW OFTEN EACH VALUE OCCUR .\n",
    "# SUCH LIST ARE IMPORTANT WHEN WORKING WITH STATISTICS AND DATA SCIENCE .\n",
    "# RANDOM DISTRIBUTION IS ALSO KNOWN AS PROBABILITY FUNCTION .\n",
    "\n",
    "\n",
    "''' \n",
    "GENERATE ONE DIMENSIONAL ARRAY WITH 20 VALUES \n",
    "WHERE EACH VALUE HAS TO BE 12 , 14 , 16 , 18 , 20 .\n",
    "THE PROBABILITY FOR THE VALUE 12 IS SET TO BE 0.4\n",
    "THE PROBABILITY FOR THE VALUE 14 IS SET TO BE 0.3\n",
    "THE PROBABILITY FOR THE VALUE 16 IS SET TO BE 0.2\n",
    "THE PROBABILITY FOR THE VALUE 18 IS SET TO BE 0.1\n",
    "THE PROBABILITY FOR THE VALUE 20 IS SET TO BE 0.0\n",
    "THE SUM OF ALL PROBABILITY NUMBERS SHOULD BE 1.0 ONLY .\n",
    "'''\n",
    "\n",
    "from numpy import random\n",
    "a = random.choice ( [12,14,16,18,20] , p=[0.4,0.3,0.2,0.1,0.0] , size=(20) )\n",
    "print(a)"
   ]
  },
  {
   "cell_type": "code",
   "execution_count": 2,
   "id": "e952d4bb",
   "metadata": {},
   "outputs": [
    {
     "name": "stdout",
     "output_type": "stream",
     "text": [
      "[[18 12 16 16 16 14]\n",
      " [12 14 16 14 12 14]\n",
      " [12 12 18 12 12 16]\n",
      " [12 14 18 12 12 12]]\n"
     ]
    }
   ],
   "source": [
    "# GENERATE A TWO DIMENSIONAL ARRAY WITH 4 ROWS EACH CONTAING 6 VALUES .\n",
    "\n",
    "from numpy import random\n",
    "b = random.choice ( [12,14,16,18,20] , p=[0.4,0.3,0.2,0.1,0.0] , size=(4,6) )\n",
    "print(b)"
   ]
  },
  {
   "cell_type": "code",
   "execution_count": null,
   "id": "277ba6f0",
   "metadata": {},
   "outputs": [],
   "source": []
  }
 ],
 "metadata": {
  "kernelspec": {
   "display_name": "Python 3 (ipykernel)",
   "language": "python",
   "name": "python3"
  },
  "language_info": {
   "codemirror_mode": {
    "name": "ipython",
    "version": 3
   },
   "file_extension": ".py",
   "mimetype": "text/x-python",
   "name": "python",
   "nbconvert_exporter": "python",
   "pygments_lexer": "ipython3",
   "version": "3.10.9"
  }
 },
 "nbformat": 4,
 "nbformat_minor": 5
}
