{
 "cells": [
  {
   "cell_type": "code",
   "execution_count": 1,
   "id": "476d6616",
   "metadata": {},
   "outputs": [
    {
     "name": "stdout",
     "output_type": "stream",
     "text": [
      "[1 2 3 4 5 6]\n"
     ]
    }
   ],
   "source": [
    "# SET : IT IS A COLLECTION OF UNIQUE ELEMENTS .\n",
    "# unique() IS USED TO FIND A SET WITH UNIQUE ELEMENTS FROM ANY ARRAY .\n",
    "# unique() ALSO CONVERTS THE ARRAY WITH REPEATED ELEMENTS TO A SET .\n",
    "\n",
    "import numpy as np\n",
    "a = np.array([6,1,4,3,5,2,4,3,2,1,6,5,2,4,6,5,1,3])\n",
    "xyz = np.unique(a)\n",
    "print(xyz)"
   ]
  },
  {
   "cell_type": "code",
   "execution_count": 2,
   "id": "899dfae8",
   "metadata": {},
   "outputs": [
    {
     "name": "stdout",
     "output_type": "stream",
     "text": [
      "[22 24 26 28 30 32 34 36 38 40 42 44]\n"
     ]
    }
   ],
   "source": [
    "# union1d() IS USED TO FIND THE UNIQUE VALUES OF 2 ONE DIMENSIONAL ARRAY .\n",
    "\n",
    "import numpy as np\n",
    "b = np.array([22,24,26,28,30,32,34,36])\n",
    "c = np.array([30,32,34,36,38,40,42,44])\n",
    "xyz = np.union1d(b,c)\n",
    "print(xyz)"
   ]
  },
  {
   "cell_type": "code",
   "execution_count": 3,
   "id": "07110050",
   "metadata": {},
   "outputs": [
    {
     "name": "stdout",
     "output_type": "stream",
     "text": [
      "[30 32 34 36]\n"
     ]
    }
   ],
   "source": [
    "# intersection1d() IS USED TO FIND THE ONLY VALUES OR ELEMENTS THAT ARE PRESENT IN BOTH ONE DIMENSIONAL ARRAYS .\n",
    "\n",
    "import numpy as np\n",
    "b = np.array([22,24,26,28,30,32,34,36])\n",
    "c = np.array([30,32,34,36,38,40,42,44])\n",
    "xyz = np.intersect1d(b,c)\n",
    "print(xyz)"
   ]
  },
  {
   "cell_type": "code",
   "execution_count": 4,
   "id": "3952ddc4",
   "metadata": {},
   "outputs": [
    {
     "name": "stdout",
     "output_type": "stream",
     "text": [
      "[30 32 34 36]\n"
     ]
    }
   ],
   "source": [
    "import numpy as np\n",
    "b = np.array([22,24,26,28,30,32,34,36])\n",
    "c = np.array([30,32,34,36,38,40,42,44])\n",
    "xyz = np.intersect1d ( b , c , assume_unique=True )\n",
    "print(xyz)"
   ]
  },
  {
   "cell_type": "code",
   "execution_count": 5,
   "id": "228367db",
   "metadata": {},
   "outputs": [
    {
     "name": "stdout",
     "output_type": "stream",
     "text": [
      "[22 24 26 28]\n"
     ]
    }
   ],
   "source": [
    "# setdiff1d() IS USED TO FIND THE VALUES THAT ARE PRESENT IN 1ST SET BUT NOT PRESENT IN 2ND SET .\n",
    "\n",
    "import numpy as np\n",
    "b = np.array([22,24,26,28,30,32,34,36])\n",
    "c = np.array([30,32,34,36,38,40,42,44])\n",
    "xyz = np.setdiff1d ( b , c , assume_unique=True )\n",
    "print(xyz)"
   ]
  },
  {
   "cell_type": "code",
   "execution_count": 6,
   "id": "cacca00d",
   "metadata": {},
   "outputs": [
    {
     "name": "stdout",
     "output_type": "stream",
     "text": [
      "[38 40 42 44]\n"
     ]
    }
   ],
   "source": [
    "# setdiff1d() IS USED TO FIND THE VALUES THAT ARE PRESENT IN 2ND SET BUT NOT PRESENT IN 1ST SET .\n",
    "\n",
    "import numpy as np\n",
    "b = np.array([22,24,26,28,30,32,34,36])\n",
    "c = np.array([30,32,34,36,38,40,42,44])\n",
    "xyz = np.setdiff1d ( c , b , assume_unique=True )\n",
    "print(xyz)"
   ]
  },
  {
   "cell_type": "code",
   "execution_count": 7,
   "id": "57de709a",
   "metadata": {},
   "outputs": [
    {
     "name": "stdout",
     "output_type": "stream",
     "text": [
      "[22 24 26 28 38 40 42 44]\n"
     ]
    }
   ],
   "source": [
    "# setxor1d() IS USED TO FIND THE VALUES THAT ARE NOT PRESENT IN BOTH ONE DIMENSIONAL ARRAYS .\n",
    "\n",
    "import numpy as np\n",
    "b = np.array([22,24,26,28,30,32,34,36])\n",
    "c = np.array([30,32,34,36,38,40,42,44])\n",
    "xyz = np.setxor1d ( b , c , assume_unique=True )\n",
    "print(xyz)"
   ]
  },
  {
   "cell_type": "code",
   "execution_count": null,
   "id": "03c90d5b",
   "metadata": {},
   "outputs": [],
   "source": []
  }
 ],
 "metadata": {
  "kernelspec": {
   "display_name": "Python 3 (ipykernel)",
   "language": "python",
   "name": "python3"
  },
  "language_info": {
   "codemirror_mode": {
    "name": "ipython",
    "version": 3
   },
   "file_extension": ".py",
   "mimetype": "text/x-python",
   "name": "python",
   "nbconvert_exporter": "python",
   "pygments_lexer": "ipython3",
   "version": "3.10.9"
  }
 },
 "nbformat": 4,
 "nbformat_minor": 5
}
