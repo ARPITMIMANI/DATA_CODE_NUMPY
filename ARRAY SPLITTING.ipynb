{
 "cells": [
  {
   "cell_type": "code",
   "execution_count": 1,
   "id": "025f80b6",
   "metadata": {},
   "outputs": [
    {
     "name": "stdout",
     "output_type": "stream",
     "text": [
      "[array([1, 2]), array([3, 4]), array([5, 6])]\n"
     ]
    }
   ],
   "source": [
    "# SPLITTING ARRAYS : IT IS JUST REVERSE OF JOINING ARRAYS MEANS BREAKING THE ARRAY .\n",
    "# SPLITTING ARRAYS IS DONE USING array_split() .\n",
    "# SPLIT THE ONE DIMENSIONAL ARRAY IN TO 3 PARTS .\n",
    "\n",
    "import numpy as np\n",
    "a1 = np.array([1,2,3,4,5,6])\n",
    "a2 = np.array_split ( a1 , 3 )\n",
    "print(a2)"
   ]
  },
  {
   "cell_type": "code",
   "execution_count": 2,
   "id": "1f9a66e2",
   "metadata": {},
   "outputs": [
    {
     "name": "stdout",
     "output_type": "stream",
     "text": [
      "[array([1, 2]), array([3, 4]), array([5]), array([6])]\n"
     ]
    }
   ],
   "source": [
    "# SPLIT THE ONE DIMENSIONAL ARRAY IN TO 4 PARTS .\n",
    "\n",
    "a1 = np.array([1,2,3,4,5,6])\n",
    "a2 = np.array_split ( a1 , 4 )\n",
    "print(a2)"
   ]
  },
  {
   "cell_type": "code",
   "execution_count": 3,
   "id": "96dddcb9",
   "metadata": {},
   "outputs": [
    {
     "name": "stdout",
     "output_type": "stream",
     "text": [
      "[1 2]\n",
      "[3 4]\n",
      "[5 6]\n"
     ]
    }
   ],
   "source": [
    "# SPLIT THE ONE DIMENSIONAL ARRAY IN TO 3 PARTS USING INDEX .\n",
    "\n",
    "a1 = np.array([1,2,3,4,5,6])\n",
    "a2 = np.array_split ( a1 , 3 )\n",
    "print(a2[0])\n",
    "print(a2[1])\n",
    "print(a2[2])"
   ]
  },
  {
   "cell_type": "code",
   "execution_count": 4,
   "id": "02bde9dd",
   "metadata": {},
   "outputs": [
    {
     "name": "stdout",
     "output_type": "stream",
     "text": [
      "[array([[1, 2],\n",
      "       [3, 4]]), array([[5, 6],\n",
      "       [7, 8]]), array([[ 9, 10],\n",
      "       [11, 12]])]\n"
     ]
    }
   ],
   "source": [
    "# SPLIT THE TWO DIMENSIONAL ARRAY IN TO 3 PARTS .\n",
    "\n",
    "b1 = np.array ([ [1,2] , [3,4] , [5,6] ,  [7,8] , [9,10] , [11,12] ])\n",
    "b2 = np.array_split ( b1 , 3 )\n",
    "print(b2)"
   ]
  },
  {
   "cell_type": "code",
   "execution_count": 5,
   "id": "bdeed010",
   "metadata": {},
   "outputs": [
    {
     "name": "stdout",
     "output_type": "stream",
     "text": [
      "[array([[1, 2],\n",
      "       [3, 4]]), array([[5, 6],\n",
      "       [7, 8]]), array([[ 9, 10]]), array([[11, 12]])]\n"
     ]
    }
   ],
   "source": [
    "# SPLIT THE TWO DIMENSIONAL ARRAY IN TO 4 PARTS .\n",
    "\n",
    "b1 = np.array ([ [1,2] , [3,4] , [5,6] ,  [7,8] , [9,10] , [11,12] ])\n",
    "b2 = np.array_split ( b1 , 4 )\n",
    "print(b2)"
   ]
  },
  {
   "cell_type": "code",
   "execution_count": 6,
   "id": "3a9375e1",
   "metadata": {},
   "outputs": [
    {
     "name": "stdout",
     "output_type": "stream",
     "text": [
      "[array([[1, 2, 3],\n",
      "       [4, 5, 6]]), array([[ 7,  8,  9],\n",
      "       [10, 11, 12]]), array([[13, 14, 15],\n",
      "       [16, 17, 18]])]\n"
     ]
    }
   ],
   "source": [
    "# SPLIT THE TWO DIMENSIONAL ARRAY IN TO 3 PARTS .\n",
    "\n",
    "c1 = np.array ([ [1,2,3] , [4,5,6] , [7,8,9] ,  [10,11,12] , [13,14,15] , [16,17,18] ])\n",
    "c2 = np.array_split ( c1 , 3 )\n",
    "print(c2)"
   ]
  },
  {
   "cell_type": "code",
   "execution_count": 7,
   "id": "6a2e4c84",
   "metadata": {},
   "outputs": [
    {
     "name": "stdout",
     "output_type": "stream",
     "text": [
      "[array([[ 1],\n",
      "       [ 4],\n",
      "       [ 7],\n",
      "       [10],\n",
      "       [13],\n",
      "       [16]]), array([[ 2],\n",
      "       [ 5],\n",
      "       [ 8],\n",
      "       [11],\n",
      "       [14],\n",
      "       [17]]), array([[ 3],\n",
      "       [ 6],\n",
      "       [ 9],\n",
      "       [12],\n",
      "       [15],\n",
      "       [18]])]\n"
     ]
    }
   ],
   "source": [
    "# SPLIT THE TWO DIMENSIONAL ARRAY ALONG WITH ROWS IN TO 3 PARTS .\n",
    "\n",
    "c1 = np.array ([ [1,2,3] , [4,5,6] , [7,8,9] ,  [10,11,12] , [13,14,15] , [16,17,18] ])\n",
    "c2 = np.array_split ( c1 , 3 , axis=1 )\n",
    "print(c2)"
   ]
  },
  {
   "cell_type": "code",
   "execution_count": 8,
   "id": "b2dfbd25",
   "metadata": {},
   "outputs": [
    {
     "name": "stdout",
     "output_type": "stream",
     "text": [
      "[array([[ 1],\n",
      "       [ 4],\n",
      "       [ 7],\n",
      "       [10],\n",
      "       [13],\n",
      "       [16]]), array([[ 2],\n",
      "       [ 5],\n",
      "       [ 8],\n",
      "       [11],\n",
      "       [14],\n",
      "       [17]]), array([[ 3],\n",
      "       [ 6],\n",
      "       [ 9],\n",
      "       [12],\n",
      "       [15],\n",
      "       [18]])]\n"
     ]
    }
   ],
   "source": [
    "# SPLIT THE TWO DIMENSIONAL ARRAY USING hsplit() IN TO 3 PARTS .\n",
    "# hsplit() IS JUST OPPOSITE OF hstack() .\n",
    "\n",
    "c1 = np.array ([ [1,2,3] , [4,5,6] , [7,8,9] ,  [10,11,12] , [13,14,15] , [16,17,18] ])\n",
    "c2 = np.hsplit ( c1 , 3 )\n",
    "print(c2)"
   ]
  },
  {
   "cell_type": "code",
   "execution_count": 9,
   "id": "f543b5c6",
   "metadata": {},
   "outputs": [
    {
     "name": "stdout",
     "output_type": "stream",
     "text": [
      "[array([[1, 2, 3],\n",
      "       [4, 5, 6]]), array([[ 7,  8,  9],\n",
      "       [10, 11, 12]]), array([[13, 14, 15],\n",
      "       [16, 17, 18]])]\n"
     ]
    }
   ],
   "source": [
    "# SPLIT THE TWO DIMENSIONAL ARRAY USING vsplit() IN TO 3 PARTS .\n",
    "# vsplit() IS JUST OPPOSITE OF vstack() .\n",
    "\n",
    "c1 = np.array ([ [1,2,3] , [4,5,6] , [7,8,9] ,  [10,11,12] , [13,14,15] , [16,17,18] ])\n",
    "c2 = np.vsplit ( c1 , 3 )\n",
    "print(c2)"
   ]
  },
  {
   "cell_type": "code",
   "execution_count": null,
   "id": "1bd08c22",
   "metadata": {},
   "outputs": [],
   "source": []
  }
 ],
 "metadata": {
  "kernelspec": {
   "display_name": "Python 3 (ipykernel)",
   "language": "python",
   "name": "python3"
  },
  "language_info": {
   "codemirror_mode": {
    "name": "ipython",
    "version": 3
   },
   "file_extension": ".py",
   "mimetype": "text/x-python",
   "name": "python",
   "nbconvert_exporter": "python",
   "pygments_lexer": "ipython3",
   "version": "3.10.9"
  }
 },
 "nbformat": 4,
 "nbformat_minor": 5
}
