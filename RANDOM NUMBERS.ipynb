{
 "cells": [
  {
   "cell_type": "code",
   "execution_count": 1,
   "id": "5712b77e",
   "metadata": {},
   "outputs": [
    {
     "name": "stdout",
     "output_type": "stream",
     "text": [
      "9\n"
     ]
    }
   ],
   "source": [
    "# RANDOM : SOMETHING THAT CANNOT BE PREDICTED LOGICALLY .\n",
    "# GENERATE A RANDOM INTEGER NUMBER FROM 1 TO 10 .\n",
    "# randint() IS USED TO GENERATE ONLY RANDOM INTEGER NUMBER .\n",
    "\n",
    "from numpy import random\n",
    "a = random.randint(1,11)\n",
    "print(a)"
   ]
  },
  {
   "cell_type": "code",
   "execution_count": 2,
   "id": "8033f3bd",
   "metadata": {},
   "outputs": [
    {
     "name": "stdout",
     "output_type": "stream",
     "text": [
      "0.8604255167330371\n"
     ]
    }
   ],
   "source": [
    "# WE CAN GENERATE float() BY USING rand() \n",
    "# rand() GENERATES FLOAT VALUES BETWEEN 0 TO 1 ONLY .\n",
    "\n",
    "b = random.rand()\n",
    "print(b)"
   ]
  },
  {
   "cell_type": "code",
   "execution_count": 3,
   "id": "6875e3ec",
   "metadata": {},
   "outputs": [
    {
     "name": "stdout",
     "output_type": "stream",
     "text": [
      "[[0.61923185 0.95149988 0.24808447 0.79277509]\n",
      " [0.22382611 0.05573975 0.26710868 0.73959469]\n",
      " [0.99511816 0.02711368 0.61948346 0.01915696]]\n"
     ]
    }
   ],
   "source": [
    "# GENERATE TWO DIMENSIONAL ARRAY WITH 3 ROWS , EACH ROW CONTAINING 4 RANDOM FLOAT VALUES .\n",
    "\n",
    "c = random.rand(3,4)\n",
    "print(c)"
   ]
  },
  {
   "cell_type": "code",
   "execution_count": 4,
   "id": "1789970d",
   "metadata": {},
   "outputs": [
    {
     "name": "stdout",
     "output_type": "stream",
     "text": [
      "[0.95887345 0.85383094 0.95698661 0.71348195 0.47941973 0.76583581]\n"
     ]
    }
   ],
   "source": [
    "# GENERATE ONE DIMENSIONAL ARRAY CONTAINING 6 RANDOM FLOAT VALUES .\n",
    "\n",
    "d = random.rand(6)\n",
    "print(d)"
   ]
  },
  {
   "cell_type": "code",
   "execution_count": 5,
   "id": "4a50d3c5",
   "metadata": {},
   "outputs": [
    {
     "name": "stdout",
     "output_type": "stream",
     "text": [
      "[19  0  4  2  6 16]\n"
     ]
    }
   ],
   "source": [
    "# GENERATE ONE DIMENSIONAL ARRAY CONTAINING 6 RANDOM INTEGER VALUES FROM 0 TO 20 .\n",
    "\n",
    "e = random.randint ( 21 , size=(6) )\n",
    "print(e)"
   ]
  },
  {
   "cell_type": "code",
   "execution_count": 6,
   "id": "27854fa5",
   "metadata": {},
   "outputs": [
    {
     "name": "stdout",
     "output_type": "stream",
     "text": [
      "[-9 -5 -4 -4 -7 -2]\n"
     ]
    }
   ],
   "source": [
    "# GENERATE ONE DIMENSIONAL ARRAY CONTAINING 6 RANDOM INTEGER VALUES FROM -10 TO -1 .\n",
    "\n",
    "f = random.randint ( -10 , 0 , size=(6) )\n",
    "print(f)"
   ]
  },
  {
   "cell_type": "code",
   "execution_count": 7,
   "id": "c0cce9a4",
   "metadata": {},
   "outputs": [
    {
     "name": "stdout",
     "output_type": "stream",
     "text": [
      "[[40  8 12 32 20 11 36 29]\n",
      " [12  1 40 21 40 19 25 22]\n",
      " [32 40 14 20 36 20 35 34]\n",
      " [ 8 11  5 32 24  5  2  1]\n",
      " [13 30 16 20 10 13 20 27]\n",
      " [35 30 18 32 12 36 23 26]]\n"
     ]
    }
   ],
   "source": [
    "# GENERATE TWO DIMENSIONAL ARRAY WITH 6 ROWS , EACH ROW CONTAIN 8 RANDOM INTEGER VALUES FROM 1 TO 40 .\n",
    "\n",
    "g = random.randint ( 1 , 41 , size=(6,8) )\n",
    "print(g)"
   ]
  },
  {
   "cell_type": "code",
   "execution_count": 8,
   "id": "c474f486",
   "metadata": {},
   "outputs": [
    {
     "name": "stdout",
     "output_type": "stream",
     "text": [
      "48\n"
     ]
    }
   ],
   "source": [
    "# choice() IS USED TO GENERATE RANDOM NUMBERS FROM AN EXISTING ARRAY .\n",
    "\n",
    "h = random.choice([38,44,34,48,36,50,42,32,46,40])\n",
    "print(h)"
   ]
  },
  {
   "cell_type": "code",
   "execution_count": 9,
   "id": "1690d44b",
   "metadata": {},
   "outputs": [
    {
     "name": "stdout",
     "output_type": "stream",
     "text": [
      "[44 40 50 44 42 46]\n"
     ]
    }
   ],
   "source": [
    "# GENERATE RANDOM NUMBERS FROM ONE DIMENSIONAL ARRAY USING choice() .\n",
    "\n",
    "k = random.choice ( [38,44,34,48,36,50,42,32,46,40] , size=(6) )\n",
    "print(k)"
   ]
  },
  {
   "cell_type": "code",
   "execution_count": 10,
   "id": "f50cf542",
   "metadata": {},
   "outputs": [
    {
     "name": "stdout",
     "output_type": "stream",
     "text": [
      "[[42 40 38 50 40 32]\n",
      " [48 50 40 32 42 38]\n",
      " [50 48 46 48 50 34]\n",
      " [34 46 36 46 38 32]\n",
      " [32 36 32 36 40 44]]\n"
     ]
    }
   ],
   "source": [
    "# GENERATE RANDOM NUMBERS FROM TWO DIMENSIONAL ARRAY USING choice() .\n",
    "\n",
    "l = random.choice ( [38,44,34,48,36,50,42,32,46,40] , size=(5,6) )\n",
    "print(l)"
   ]
  },
  {
   "cell_type": "code",
   "execution_count": null,
   "id": "54f876c7",
   "metadata": {},
   "outputs": [],
   "source": []
  }
 ],
 "metadata": {
  "kernelspec": {
   "display_name": "Python 3 (ipykernel)",
   "language": "python",
   "name": "python3"
  },
  "language_info": {
   "codemirror_mode": {
    "name": "ipython",
    "version": 3
   },
   "file_extension": ".py",
   "mimetype": "text/x-python",
   "name": "python",
   "nbconvert_exporter": "python",
   "pygments_lexer": "ipython3",
   "version": "3.10.9"
  }
 },
 "nbformat": 4,
 "nbformat_minor": 5
}
