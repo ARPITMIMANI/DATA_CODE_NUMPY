{
 "cells": [
  {
   "cell_type": "code",
   "execution_count": 1,
   "id": "5af8d3eb",
   "metadata": {},
   "outputs": [
    {
     "name": "stdout",
     "output_type": "stream",
     "text": [
      "16\n"
     ]
    }
   ],
   "source": [
    "# ARRAY INDEXING IS THE SAME AS ACCESSING AN ARRAY ELEMENT .\n",
    "# ARRAY STARTS FIRST WITH 0 , SECOND WITH 1 , THIRD WITH 2 , FOURTH WITH 3 AND SO ON .\n",
    "\n",
    "import numpy as np\n",
    "a = np.array([11,12,13,14,15,16,17,18,19,20])\n",
    "print(a[5])"
   ]
  },
  {
   "cell_type": "code",
   "execution_count": 2,
   "id": "91d55a09",
   "metadata": {},
   "outputs": [
    {
     "name": "stdout",
     "output_type": "stream",
     "text": [
      "66\n"
     ]
    }
   ],
   "source": [
    "# WE CAN GET THE ELEMENTS FROM ADDING THEM .\n",
    "\n",
    "a = np.array([11,12,13,14,15,16,17,18,19,20])\n",
    "print ( a[4] + a[5] + a[6] + a[7] ) "
   ]
  },
  {
   "cell_type": "code",
   "execution_count": 3,
   "id": "544101c4",
   "metadata": {},
   "outputs": [
    {
     "name": "stdout",
     "output_type": "stream",
     "text": [
      "2ND ELEMENT IN THE 1ST ROW : 2\n",
      "5TH ELEMENT IN THE 2ND ROW : 10\n"
     ]
    }
   ],
   "source": [
    "# ACCESING THE TW0 DIMENSIONAL ARRAY IS LIKE ROWS AND COLUMNS .\n",
    "\n",
    "b = np.array ( [ [1,2,3,4,5] , [6,7,8,9,10] ] )\n",
    "print ( \"2ND ELEMENT IN THE 1ST ROW :\" , b[0,1] )\n",
    "print ( \"5TH ELEMENT IN THE 2ND ROW :\" , b[1,4] )"
   ]
  },
  {
   "cell_type": "code",
   "execution_count": 4,
   "id": "319abf1f",
   "metadata": {},
   "outputs": [
    {
     "name": "stdout",
     "output_type": "stream",
     "text": [
      "6\n"
     ]
    }
   ],
   "source": [
    "# ACCESSING THE THREE DIMENSIONAL ARRAY .\n",
    "\n",
    "c = np.array ([ [ [1,2,3] , [4,5,6] ] , [ [7,8,9] , [10,11,12] ] ])\n",
    "print(c[0,1,2])"
   ]
  },
  {
   "cell_type": "code",
   "execution_count": null,
   "id": "fc50e3e8",
   "metadata": {},
   "outputs": [],
   "source": []
  }
 ],
 "metadata": {
  "kernelspec": {
   "display_name": "Python 3 (ipykernel)",
   "language": "python",
   "name": "python3"
  },
  "language_info": {
   "codemirror_mode": {
    "name": "ipython",
    "version": 3
   },
   "file_extension": ".py",
   "mimetype": "text/x-python",
   "name": "python",
   "nbconvert_exporter": "python",
   "pygments_lexer": "ipython3",
   "version": "3.10.9"
  }
 },
 "nbformat": 4,
 "nbformat_minor": 5
}
