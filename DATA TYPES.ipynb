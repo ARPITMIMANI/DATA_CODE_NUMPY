{
 "cells": [
  {
   "cell_type": "code",
   "execution_count": 1,
   "id": "1566b5b1",
   "metadata": {},
   "outputs": [
    {
     "name": "stdout",
     "output_type": "stream",
     "text": [
      "int32\n"
     ]
    }
   ],
   "source": [
    "# DATA TYPES IN PYTHON : STRING , INTEGER , FLOAT , BOOLEAN , COMPLEX .\n",
    "\n",
    "''' DATA TYPES IN NUMPY :\n",
    "\"i\" FOR INTEGER , \n",
    "\"b\" FOR BOOLEAN , \n",
    "\"u\" FOR UNSIGNED INTEGER , \n",
    "\"f\" FOR FLOAT , \n",
    "\"c\" FOR COMPLEX FLOAT , \n",
    "\"m\" FOR TIMEDELTA , \"M\" FOR DATETIME , \n",
    "\"O\" FOR OBJECT , \n",
    "\"S\" FOR STRING , \n",
    "\"U\" FOR UNICODE STRING ,\n",
    "\"V\" FOR MEMORY . '''\n",
    "\n",
    "# dtype() IS USED TO CHECK THE DATA TYPE OF NUMPY .\n",
    "\n",
    "import numpy as np\n",
    "a = np.array([11,12,13,14,15,16])\n",
    "print(a.dtype)"
   ]
  },
  {
   "cell_type": "code",
   "execution_count": 2,
   "id": "09e30f04",
   "metadata": {},
   "outputs": [
    {
     "name": "stdout",
     "output_type": "stream",
     "text": [
      "<U7\n"
     ]
    }
   ],
   "source": [
    "b = np.array ([ \"GERMANY\" , \"ITALY\" , \"SPAIN\" , \"POLAND\" , \"FRANCE\" , \"DENMARK\" ])\n",
    "print(b.dtype)"
   ]
  },
  {
   "cell_type": "code",
   "execution_count": 3,
   "id": "76eb4acd",
   "metadata": {},
   "outputs": [
    {
     "name": "stdout",
     "output_type": "stream",
     "text": [
      "<U6\n"
     ]
    }
   ],
   "source": [
    "c = np.array ([ \"BANANA\" , \"MANGO\" , \"ORANGE\" , \"APPLE\" ])\n",
    "print(c.dtype)"
   ]
  },
  {
   "cell_type": "code",
   "execution_count": 4,
   "id": "729d5696",
   "metadata": {},
   "outputs": [
    {
     "name": "stdout",
     "output_type": "stream",
     "text": [
      "[b'11' b'12' b'13' b'14' b'15' b'16']\n",
      "|S2\n"
     ]
    }
   ],
   "source": [
    "# CREATING ARRAY WITH A DEFINED DATA TYPE .\n",
    "\n",
    "a = np.array ( [11,12,13,14,15,16] , dtype=\"S\" )\n",
    "print(a)\n",
    "print(a.dtype)"
   ]
  },
  {
   "cell_type": "code",
   "execution_count": 5,
   "id": "46de61d6",
   "metadata": {},
   "outputs": [
    {
     "name": "stdout",
     "output_type": "stream",
     "text": [
      "[b'1' b'2' b'3' b'4']\n",
      "|S1\n"
     ]
    }
   ],
   "source": [
    "d = np.array ( [1,2,3,4] , dtype=\"S\" )\n",
    "print(d)\n",
    "print(d.dtype)"
   ]
  },
  {
   "cell_type": "code",
   "execution_count": 6,
   "id": "aa20e50b",
   "metadata": {},
   "outputs": [
    {
     "name": "stdout",
     "output_type": "stream",
     "text": [
      "[1 2 3 4]\n",
      "int32\n"
     ]
    }
   ],
   "source": [
    "# CREATE AN ARRAY WITH INTEGER DATA TYPE OF 4 BYTES .\n",
    "\n",
    "d = np.array ( [1,2,3,4] , dtype=\"i4\" )\n",
    "print(d)\n",
    "print(d.dtype)"
   ]
  },
  {
   "cell_type": "code",
   "execution_count": 7,
   "id": "6f6cc13a",
   "metadata": {},
   "outputs": [
    {
     "name": "stdout",
     "output_type": "stream",
     "text": [
      "[1 2 3 4 5 6 7 8]\n",
      "int32\n"
     ]
    },
    {
     "data": {
      "text/plain": [
       "' IF A TYPE IS GIVEN IN WHICH THE ELEMENTS CANNOT BE CASTED \\nTHEN NUMPY WILL RAISE ERROR IF VALUE CANNOT BE CONVERTED . '"
      ]
     },
     "execution_count": 7,
     "metadata": {},
     "output_type": "execute_result"
    }
   ],
   "source": [
    "e = np.array ( [1,2,3,4,5,6,7,8] , dtype=\"i4\" )\n",
    "print(e)\n",
    "print(e.dtype)\n",
    "\n",
    "''' IF A TYPE IS GIVEN IN WHICH THE ELEMENTS CANNOT BE CASTED \n",
    "THEN NUMPY WILL RAISE ERROR IF VALUE CANNOT BE CONVERTED . '''"
   ]
  },
  {
   "cell_type": "code",
   "execution_count": 8,
   "id": "f2393730",
   "metadata": {},
   "outputs": [
    {
     "name": "stdout",
     "output_type": "stream",
     "text": [
      "[0 1 2 3 4 4 5 6 7 8]\n",
      "int32\n"
     ]
    }
   ],
   "source": [
    "# astype() IS USED TO CONVERT DATA TYPE OF EXISTING ARRAY .\n",
    "# CONVERTING DATA TYPE FROM FLOAT TO INTEGER .\n",
    "\n",
    "f1 = np.array ([ 0.8 , 1.6 , 2.4 , 3.2 , 4.0 , 4.8 , 5.6 , 6.4 , 7.2 , 8.0 ])\n",
    "f2 = f1.astype(\"i\")\n",
    "print(f2)\n",
    "print(f2.dtype)"
   ]
  },
  {
   "cell_type": "code",
   "execution_count": 9,
   "id": "7df112a8",
   "metadata": {},
   "outputs": [
    {
     "name": "stdout",
     "output_type": "stream",
     "text": [
      "[0 1 2 3 4 4 5 6 7 8]\n",
      "int32\n"
     ]
    }
   ],
   "source": [
    "f1 = np.array ([ 0.8 , 1.6 , 2.4 , 3.2 , 4.0 , 4.8 , 5.6 , 6.4 , 7.2 , 8.0 ])\n",
    "f2 = f1.astype(int)\n",
    "print(f2)\n",
    "print(f2.dtype)"
   ]
  },
  {
   "cell_type": "code",
   "execution_count": 10,
   "id": "bd48d1ba",
   "metadata": {},
   "outputs": [
    {
     "name": "stdout",
     "output_type": "stream",
     "text": [
      "[ True False  True False  True]\n",
      "bool\n"
     ]
    }
   ],
   "source": [
    "# CONVERTING DATA TYPE FROM INTEGER TO BOOLEAN .\n",
    "\n",
    "g1 = np.array ([ 4 , 0 , -8 , 0.0 , 4.8 ])\n",
    "g2 = g1.astype(bool)\n",
    "print(g2)\n",
    "print(g2.dtype)"
   ]
  },
  {
   "cell_type": "code",
   "execution_count": null,
   "id": "c48053d1",
   "metadata": {},
   "outputs": [],
   "source": []
  }
 ],
 "metadata": {
  "kernelspec": {
   "display_name": "Python 3 (ipykernel)",
   "language": "python",
   "name": "python3"
  },
  "language_info": {
   "codemirror_mode": {
    "name": "ipython",
    "version": 3
   },
   "file_extension": ".py",
   "mimetype": "text/x-python",
   "name": "python",
   "nbconvert_exporter": "python",
   "pygments_lexer": "ipython3",
   "version": "3.10.9"
  }
 },
 "nbformat": 4,
 "nbformat_minor": 5
}
