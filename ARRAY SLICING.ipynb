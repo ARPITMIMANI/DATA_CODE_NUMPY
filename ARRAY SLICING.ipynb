{
 "cells": [
  {
   "cell_type": "code",
   "execution_count": 1,
   "id": "691f3601",
   "metadata": {},
   "outputs": [
    {
     "name": "stdout",
     "output_type": "stream",
     "text": [
      "[2 3 4 5]\n"
     ]
    }
   ],
   "source": [
    "# SLICING ARRAYS : SLICING IN PYHTON MEANS TAKING ELEMENTS FORM ONE GIVEN INDEX TO ANOTHER INDEX .\n",
    "# SLICING FORMAT : [START:END] , [START:END:STEP]\n",
    "\n",
    "import numpy as np\n",
    "a = np.array([1,2,3,4,5,6,7,8,9,10])\n",
    "print(a[1:5])"
   ]
  },
  {
   "cell_type": "code",
   "execution_count": 2,
   "id": "1d6bb24b",
   "metadata": {},
   "outputs": [
    {
     "name": "stdout",
     "output_type": "stream",
     "text": [
      "[ 5  6  7  8  9 10]\n"
     ]
    }
   ],
   "source": [
    "a = np.array([1,2,3,4,5,6,7,8,9,10])\n",
    "print(a[4:])"
   ]
  },
  {
   "cell_type": "code",
   "execution_count": 3,
   "id": "7eb491e4",
   "metadata": {},
   "outputs": [
    {
     "name": "stdout",
     "output_type": "stream",
     "text": [
      "[1 2 3 4]\n"
     ]
    }
   ],
   "source": [
    "a = np.array([1,2,3,4,5,6,7,8,9,10])\n",
    "print(a[:4])"
   ]
  },
  {
   "cell_type": "code",
   "execution_count": 4,
   "id": "0d9e5907",
   "metadata": {},
   "outputs": [
    {
     "name": "stdout",
     "output_type": "stream",
     "text": [
      "[5 6 7 8 9]\n"
     ]
    }
   ],
   "source": [
    "# NEGATIVE SLICING \n",
    "\n",
    "a = np.array([1,2,3,4,5,6,7,8,9,10])\n",
    "print(a[-6:-1])"
   ]
  },
  {
   "cell_type": "code",
   "execution_count": 5,
   "id": "3a019fbb",
   "metadata": {},
   "outputs": [
    {
     "name": "stdout",
     "output_type": "stream",
     "text": [
      "[8 9]\n"
     ]
    }
   ],
   "source": [
    "a = np.array([1,2,3,4,5,6,7,8,9,10])\n",
    "print(a[-3:-1])"
   ]
  },
  {
   "cell_type": "code",
   "execution_count": 6,
   "id": "99b5f0e3",
   "metadata": {},
   "outputs": [
    {
     "name": "stdout",
     "output_type": "stream",
     "text": [
      "[ 1  5  9 13 17]\n"
     ]
    }
   ],
   "source": [
    "# STEP VALUE : IT IS USED TO DETERMINE THE STEP OF THE SLICING .\n",
    "\n",
    "b = np.array([1,2,3,4,5,6,7,8,9,10,11,12,13,14,15,16,17,18,19,20])\n",
    "print(b[0:20:4])"
   ]
  },
  {
   "cell_type": "code",
   "execution_count": 7,
   "id": "10c1b44a",
   "metadata": {},
   "outputs": [
    {
     "name": "stdout",
     "output_type": "stream",
     "text": [
      "[ 1  5  9 13 17]\n"
     ]
    }
   ],
   "source": [
    "b = np.array([1,2,3,4,5,6,7,8,9,10,11,12,13,14,15,16,17,18,19,20])\n",
    "print(b[::4])"
   ]
  },
  {
   "cell_type": "code",
   "execution_count": 8,
   "id": "813af7ff",
   "metadata": {},
   "outputs": [
    {
     "name": "stdout",
     "output_type": "stream",
     "text": [
      "[11 13 15 17 19]\n"
     ]
    }
   ],
   "source": [
    "b = np.array([1,2,3,4,5,6,7,8,9,10,11,12,13,14,15,16,17,18,19,20])\n",
    "print(b[10::2])"
   ]
  },
  {
   "cell_type": "code",
   "execution_count": 9,
   "id": "31ad5876",
   "metadata": {},
   "outputs": [
    {
     "name": "stdout",
     "output_type": "stream",
     "text": [
      "[1 3 5 7 9]\n"
     ]
    }
   ],
   "source": [
    "b = np.array([1,2,3,4,5,6,7,8,9,10,11,12,13,14,15,16,17,18,19,20])\n",
    "print(b[:10:2])"
   ]
  },
  {
   "cell_type": "code",
   "execution_count": 10,
   "id": "a4901043",
   "metadata": {},
   "outputs": [
    {
     "name": "stdout",
     "output_type": "stream",
     "text": [
      "[7 8 9]\n"
     ]
    }
   ],
   "source": [
    "# SLICING TWO DIMENSIONAL ARRAY : PRINT 7 8 9 .\n",
    "\n",
    "c = np.array ([ [1,2,3,4,5] , [6,7,8,9,10] ])\n",
    "print (c[1,1:4])"
   ]
  },
  {
   "cell_type": "code",
   "execution_count": 11,
   "id": "3227c527",
   "metadata": {},
   "outputs": [
    {
     "name": "stdout",
     "output_type": "stream",
     "text": [
      "[3 8]\n"
     ]
    }
   ],
   "source": [
    "# PRINT FROM BOTH THE INDEX VALUE 2 .\n",
    "\n",
    "c = np.array ([ [1,2,3,4,5] , [6,7,8,9,10] ])\n",
    "print(c[0:2,2])"
   ]
  },
  {
   "cell_type": "code",
   "execution_count": 12,
   "id": "90e2a69d",
   "metadata": {},
   "outputs": [
    {
     "name": "stdout",
     "output_type": "stream",
     "text": [
      "[[2 3 4]\n",
      " [7 8 9]]\n"
     ]
    }
   ],
   "source": [
    "# PRINT FROM BOTH INDEX 1 TO INDEX 4 .\n",
    "\n",
    "c = np.array ([ [1,2,3,4,5] , [6,7,8,9,10] ])\n",
    "print(c[0:2,1:4])"
   ]
  },
  {
   "cell_type": "code",
   "execution_count": null,
   "id": "417a4e8c",
   "metadata": {},
   "outputs": [],
   "source": []
  }
 ],
 "metadata": {
  "kernelspec": {
   "display_name": "Python 3 (ipykernel)",
   "language": "python",
   "name": "python3"
  },
  "language_info": {
   "codemirror_mode": {
    "name": "ipython",
    "version": 3
   },
   "file_extension": ".py",
   "mimetype": "text/x-python",
   "name": "python",
   "nbconvert_exporter": "python",
   "pygments_lexer": "ipython3",
   "version": "3.10.9"
  }
 },
 "nbformat": 4,
 "nbformat_minor": 5
}
