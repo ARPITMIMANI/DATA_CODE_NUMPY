{
 "cells": [
  {
   "cell_type": "code",
   "execution_count": 1,
   "id": "0f69824d",
   "metadata": {},
   "outputs": [
    {
     "name": "stdout",
     "output_type": "stream",
     "text": [
      "[42 28 24 32 26 30 40 34]\n",
      "[42 28 24 32 26 30 40 34]\n"
     ]
    }
   ],
   "source": [
    "# COPY ARRAY \n",
    "\n",
    "import numpy as np\n",
    "a1 = np.array([42,28,24,32,26,30,40,34])\n",
    "a2 = a1.copy()\n",
    "print(a1)\n",
    "print(a2)"
   ]
  },
  {
   "cell_type": "code",
   "execution_count": 2,
   "id": "441caafb",
   "metadata": {},
   "outputs": [
    {
     "name": "stdout",
     "output_type": "stream",
     "text": [
      "[38 28 24 32 26 30 40 34]\n",
      "[42 28 24 32 26 30 40 34]\n"
     ]
    }
   ],
   "source": [
    "import numpy as np\n",
    "a1 = np.array([42,28,24,32,26,30,40,34])\n",
    "a2 = a1.copy()\n",
    "a1[0] = 38\n",
    "print(a1)\n",
    "print(a2)"
   ]
  },
  {
   "cell_type": "code",
   "execution_count": 3,
   "id": "a226e42a",
   "metadata": {},
   "outputs": [
    {
     "name": "stdout",
     "output_type": "stream",
     "text": [
      "[42 28 24 32 26 30 40 34]\n",
      "[38 28 24 32 26 30 40 34]\n"
     ]
    }
   ],
   "source": [
    "import numpy as np\n",
    "a1 = np.array([42,28,24,32,26,30,40,34])\n",
    "a2 = a1.copy()\n",
    "a2[0] = 38\n",
    "print(a1)\n",
    "print(a2)"
   ]
  },
  {
   "cell_type": "code",
   "execution_count": 4,
   "id": "42fe18d7",
   "metadata": {},
   "outputs": [
    {
     "name": "stdout",
     "output_type": "stream",
     "text": [
      "[42 28 24 32 26 30 40 34]\n",
      "[42 28 24 32 26 30 40 34]\n"
     ]
    }
   ],
   "source": [
    "# VIEW ARRAY\n",
    "\n",
    "import numpy as np\n",
    "b1 = np.array([42,28,24,32,26,30,40,34])\n",
    "b2 = b1.view()\n",
    "print(b1)\n",
    "print(b2)"
   ]
  },
  {
   "cell_type": "code",
   "execution_count": 5,
   "id": "7663b90d",
   "metadata": {},
   "outputs": [
    {
     "name": "stdout",
     "output_type": "stream",
     "text": [
      "[38 28 24 32 26 30 40 34]\n",
      "[38 28 24 32 26 30 40 34]\n"
     ]
    }
   ],
   "source": [
    "import numpy as np\n",
    "b1 = np.array([42,28,24,32,26,30,40,34])\n",
    "b2 = b1.view()\n",
    "b1[0] = 38\n",
    "print(b1)\n",
    "print(b2)"
   ]
  },
  {
   "cell_type": "code",
   "execution_count": 6,
   "id": "bbd6f6e9",
   "metadata": {},
   "outputs": [
    {
     "name": "stdout",
     "output_type": "stream",
     "text": [
      "[38 28 24 32 26 30 40 34]\n",
      "[38 28 24 32 26 30 40 34]\n"
     ]
    }
   ],
   "source": [
    "import numpy as np\n",
    "b1 = np.array([42,28,24,32,26,30,40,34])\n",
    "b2 = b1.view()\n",
    "b2[0] = 38\n",
    "print(b1)\n",
    "print(b2)"
   ]
  },
  {
   "cell_type": "code",
   "execution_count": null,
   "id": "66e8514a",
   "metadata": {},
   "outputs": [],
   "source": []
  }
 ],
 "metadata": {
  "kernelspec": {
   "display_name": "Python 3 (ipykernel)",
   "language": "python",
   "name": "python3"
  },
  "language_info": {
   "codemirror_mode": {
    "name": "ipython",
    "version": 3
   },
   "file_extension": ".py",
   "mimetype": "text/x-python",
   "name": "python",
   "nbconvert_exporter": "python",
   "pygments_lexer": "ipython3",
   "version": "3.10.9"
  }
 },
 "nbformat": 4,
 "nbformat_minor": 5
}
