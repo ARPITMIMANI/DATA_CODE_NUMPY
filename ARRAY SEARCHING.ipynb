{
 "cells": [
  {
   "cell_type": "code",
   "execution_count": 1,
   "id": "68f8385c",
   "metadata": {},
   "outputs": [
    {
     "name": "stdout",
     "output_type": "stream",
     "text": [
      "(array([ 1,  6,  8, 11], dtype=int64),)\n"
     ]
    }
   ],
   "source": [
    "# TO SEARCH AN ARRAY FOR A CERTAIN VALUE AND RETURN THE INDEXES THAT GET THE MATCH USING where() .\n",
    "\n",
    "import numpy as np\n",
    "a1 = np.array ([16,14,18,20,16,12,14,18,14,12,20,14])\n",
    "a2 = np.where ( a1 == 14 )\n",
    "print(a2)"
   ]
  },
  {
   "cell_type": "code",
   "execution_count": 2,
   "id": "c8f5f15d",
   "metadata": {},
   "outputs": [
    {
     "name": "stdout",
     "output_type": "stream",
     "text": [
      "(array([ 1,  3,  5,  7,  9, 11], dtype=int64),)\n"
     ]
    }
   ],
   "source": [
    "# FIND THE INDEXES WHERE VALUES ARE EVEN .\n",
    "\n",
    "b1 = np.array([1,2,3,4,5,6,7,8,9,10,11,12])\n",
    "b2 = np.where ( b1 % 2 == 0 )\n",
    "print(b2)"
   ]
  },
  {
   "cell_type": "code",
   "execution_count": 3,
   "id": "06c283d5",
   "metadata": {},
   "outputs": [
    {
     "name": "stdout",
     "output_type": "stream",
     "text": [
      "(array([ 1,  3,  5,  7,  9, 11], dtype=int64),)\n"
     ]
    }
   ],
   "source": [
    "b1 = np.array([1,2,3,4,5,6,7,8,9,10,11,12])\n",
    "b2 = np.where ( b1 % 2 != 1 )\n",
    "print(b2)"
   ]
  },
  {
   "cell_type": "code",
   "execution_count": 4,
   "id": "82479916",
   "metadata": {},
   "outputs": [
    {
     "name": "stdout",
     "output_type": "stream",
     "text": [
      "(array([ 0,  2,  4,  6,  8, 10], dtype=int64),)\n"
     ]
    }
   ],
   "source": [
    "# FIND THE INDEXES WHERE VALUES ARE ODD .\n",
    "\n",
    "b1 = np.array([1,2,3,4,5,6,7,8,9,10,11,12])\n",
    "b2 = np.where ( b1 % 2 == 1 )\n",
    "print(b2)"
   ]
  },
  {
   "cell_type": "code",
   "execution_count": 5,
   "id": "24eb776c",
   "metadata": {},
   "outputs": [
    {
     "name": "stdout",
     "output_type": "stream",
     "text": [
      "(array([ 0,  2,  4,  6,  8, 10], dtype=int64),)\n"
     ]
    }
   ],
   "source": [
    "b1 = np.array([1,2,3,4,5,6,7,8,9,10,11,12])\n",
    "b2 = np.where ( b1 % 2 != 0 )\n",
    "print(b2)"
   ]
  },
  {
   "cell_type": "code",
   "execution_count": 6,
   "id": "96bbc4de",
   "metadata": {},
   "outputs": [
    {
     "name": "stdout",
     "output_type": "stream",
     "text": [
      "4\n"
     ]
    }
   ],
   "source": [
    "# searchsorted() IS USED TO PERFORM BINARY SEARCH IN ARRAY .\n",
    "# FIND THE INDEX WHERE VALUE 40 IS INSERTED .\n",
    "\n",
    "c1 = np.array([32,34,36,38,40,42,44,46,48,50])\n",
    "c2 = np.searchsorted ( c1 , 40 )\n",
    "print(c2)"
   ]
  },
  {
   "cell_type": "code",
   "execution_count": 7,
   "id": "c5586d78",
   "metadata": {},
   "outputs": [
    {
     "name": "stdout",
     "output_type": "stream",
     "text": [
      "4\n"
     ]
    }
   ],
   "source": [
    "# FIND THE INDEX WHERE VALUE 40 IS INSERTED FROM LEFT SIDE .\n",
    "\n",
    "c1 = np.array([32,34,36,38,40,42,44,46,48,50])\n",
    "c2 = np.searchsorted ( c1 , 40 , side=\"left\" )\n",
    "print(c2)"
   ]
  },
  {
   "cell_type": "code",
   "execution_count": 8,
   "id": "6d410da9",
   "metadata": {},
   "outputs": [
    {
     "name": "stdout",
     "output_type": "stream",
     "text": [
      "5\n"
     ]
    }
   ],
   "source": [
    "# FIND THE INDEX WHERE VALUE 40 IS INSERTED FROM RIGHT SIDE .\n",
    "\n",
    "c1 = np.array([32,34,36,38,40,42,44,46,48,50])\n",
    "c2 = np.searchsorted ( c1 , 40 , side=\"right\" )\n",
    "print(c2)"
   ]
  },
  {
   "cell_type": "code",
   "execution_count": 9,
   "id": "6c8fe4c8",
   "metadata": {},
   "outputs": [
    {
     "name": "stdout",
     "output_type": "stream",
     "text": [
      "[ 9  0 10  2]\n"
     ]
    }
   ],
   "source": [
    "# SEARCHING MULTIPLE VALUES IN AN ARRAY .\n",
    "\n",
    "d1 = np.array([16,13,19,18,11,15,14,20,12,17])\n",
    "d2 = np.searchsorted ( d1 , [16,12,18,14] )\n",
    "print(d2)"
   ]
  },
  {
   "cell_type": "code",
   "execution_count": 10,
   "id": "44d2fd9b",
   "metadata": {},
   "outputs": [
    {
     "name": "stdout",
     "output_type": "stream",
     "text": [
      "[10 10 10 10]\n"
     ]
    }
   ],
   "source": [
    "d1 = np.array([16,13,19,18,11,15,14,20,12,17])\n",
    "d2 = np.searchsorted ( d1 , [23,21,24,22] )\n",
    "print(d2)"
   ]
  },
  {
   "cell_type": "code",
   "execution_count": 11,
   "id": "cf2d6279",
   "metadata": {},
   "outputs": [
    {
     "name": "stdout",
     "output_type": "stream",
     "text": [
      "[0 0 0 0]\n"
     ]
    }
   ],
   "source": [
    "d1 = np.array([16,13,19,18,11,15,14,20,12,17])\n",
    "d2 = np.searchsorted ( d1 , [6,2,8,4] )\n",
    "print(d2)"
   ]
  },
  {
   "cell_type": "code",
   "execution_count": null,
   "id": "a6794e71",
   "metadata": {},
   "outputs": [],
   "source": []
  }
 ],
 "metadata": {
  "kernelspec": {
   "display_name": "Python 3 (ipykernel)",
   "language": "python",
   "name": "python3"
  },
  "language_info": {
   "codemirror_mode": {
    "name": "ipython",
    "version": 3
   },
   "file_extension": ".py",
   "mimetype": "text/x-python",
   "name": "python",
   "nbconvert_exporter": "python",
   "pygments_lexer": "ipython3",
   "version": "3.10.9"
  }
 },
 "nbformat": 4,
 "nbformat_minor": 5
}
