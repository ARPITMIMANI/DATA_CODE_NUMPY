{
 "cells": [
  {
   "cell_type": "code",
   "execution_count": 1,
   "id": "29bd5057",
   "metadata": {},
   "outputs": [
    {
     "name": "stdout",
     "output_type": "stream",
     "text": [
      "[ -6   2  -4  12 -16  18 -16  12  -4]\n"
     ]
    }
   ],
   "source": [
    "# diff() FUNCTION IS USED FOR FINDING THE DIFFERENCES .\n",
    "# EXAMPLE [6,8,2,4] DISCRETE DIFFERENCE WOULD BE [ 8-6 , 2-8 , 4-2 ] = [2,-6,2] .\n",
    "# USING diff() FUNCTION .\n",
    "\n",
    "import numpy as np\n",
    "a = np.array([24,18,20,16,28,12,30,14,26,22])\n",
    "xyz = np.diff(a)\n",
    "print(xyz)"
   ]
  },
  {
   "cell_type": "code",
   "execution_count": 2,
   "id": "835b564f",
   "metadata": {},
   "outputs": [
    {
     "name": "stdout",
     "output_type": "stream",
     "text": [
      "[-4  7 -4  5 -7  4 -6  7 -4]\n"
     ]
    }
   ],
   "source": [
    "import numpy as np\n",
    "b = np.array([36,32,39,35,40,33,37,31,38,34])\n",
    "xyz = np.diff(b)\n",
    "print(xyz)"
   ]
  },
  {
   "cell_type": "code",
   "execution_count": null,
   "id": "89962704",
   "metadata": {},
   "outputs": [],
   "source": []
  }
 ],
 "metadata": {
  "kernelspec": {
   "display_name": "Python 3 (ipykernel)",
   "language": "python",
   "name": "python3"
  },
  "language_info": {
   "codemirror_mode": {
    "name": "ipython",
    "version": 3
   },
   "file_extension": ".py",
   "mimetype": "text/x-python",
   "name": "python",
   "nbconvert_exporter": "python",
   "pygments_lexer": "ipython3",
   "version": "3.10.9"
  }
 },
 "nbformat": 4,
 "nbformat_minor": 5
}
