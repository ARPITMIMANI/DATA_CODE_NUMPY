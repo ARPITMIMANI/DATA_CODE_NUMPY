{
 "cells": [
  {
   "cell_type": "code",
   "execution_count": 1,
   "id": "398bd6c7",
   "metadata": {},
   "outputs": [
    {
     "name": "stdout",
     "output_type": "stream",
     "text": [
      "[1 2 3 4 5 6]\n"
     ]
    }
   ],
   "source": [
    "# THE ARRAY OBJECT IN NUMPY IS CALLED NDARRAY .\n",
    "\n",
    "import numpy as np\n",
    "a = np.array([1,2,3,4,5,6])\n",
    "print(a)\n"
   ]
  },
  {
   "cell_type": "code",
   "execution_count": 2,
   "id": "3d8fa724",
   "metadata": {},
   "outputs": [
    {
     "name": "stdout",
     "output_type": "stream",
     "text": [
      "[11 12 13 14 15 16]\n",
      "<class 'numpy.ndarray'>\n"
     ]
    }
   ],
   "source": [
    "# WE CAN ALSO PASS A LIST , TUPLE OR ANY ARRAY LIKE OBJECT WITH array() . ALL WILL BE ONVERTED TO NDARRAY .\n",
    "\n",
    "b = np.array((11,12,13,14,15,16))\n",
    "print(b)\n",
    "print(type(b))"
   ]
  },
  {
   "cell_type": "code",
   "execution_count": 3,
   "id": "a3c638e7",
   "metadata": {},
   "outputs": [
    {
     "name": "stdout",
     "output_type": "stream",
     "text": [
      "64\n",
      "<class 'numpy.ndarray'>\n"
     ]
    }
   ],
   "source": [
    "# DIMENSIONS IN ARRAY : IT IS ONE LEVEL OF ARRAY DEPTH ALSO KNOWN AS NESTED ARRAY .\n",
    "# ZERO DIMENSIONAL ARRAY OR SCALARS ARE THE ELEMENTS IN AN ARRAY .\n",
    "# EACH VALUE IN AN ARRAY IS ZERO DIMENSIONAL .\n",
    "\n",
    "c = np.array(64)\n",
    "print(c)\n",
    "print(type(c))"
   ]
  },
  {
   "cell_type": "code",
   "execution_count": 4,
   "id": "bc8cc6e9",
   "metadata": {},
   "outputs": [
    {
     "name": "stdout",
     "output_type": "stream",
     "text": [
      "[21 22 23 24 25 26]\n"
     ]
    }
   ],
   "source": [
    "# ONE DIMESNIONAL ARRAY OR UNI DIRECTIONAL ARRAY THAT HAS ZERO DIMENSIONAL ARRAY AS ITS ELEMENTS .\n",
    "\n",
    "d = np.array([21,22,23,24,25,26])\n",
    "print(d)"
   ]
  },
  {
   "cell_type": "code",
   "execution_count": 5,
   "id": "51f89fe4",
   "metadata": {},
   "outputs": [
    {
     "name": "stdout",
     "output_type": "stream",
     "text": [
      "[[1 2 3 4]\n",
      " [5 6 7 8]]\n"
     ]
    }
   ],
   "source": [
    "# TWO DIMESNIONAL ARRAY :\n",
    "\n",
    "e = np.array ( [ [1,2,3,4] , [5,6,7,8] ] )\n",
    "print(e)"
   ]
  },
  {
   "cell_type": "code",
   "execution_count": 6,
   "id": "d3afc143",
   "metadata": {},
   "outputs": [
    {
     "name": "stdout",
     "output_type": "stream",
     "text": [
      "[[[31 32]\n",
      "  [33 34]]\n",
      "\n",
      " [[35 36]\n",
      "  [37 38]]]\n"
     ]
    }
   ],
   "source": [
    "# THREE DIMESNIONAL ARRAY :\n",
    "\n",
    "f = np.array ( [ [ [31,32] , [33,34] ] , [ [35,36], [37,38] ] ] )\n",
    "print(f)"
   ]
  },
  {
   "cell_type": "code",
   "execution_count": 7,
   "id": "0df0a49d",
   "metadata": {},
   "outputs": [
    {
     "name": "stdout",
     "output_type": "stream",
     "text": [
      "0\n",
      "1\n",
      "2\n",
      "3\n"
     ]
    }
   ],
   "source": [
    "# ndim ATTRIBUTE USED TO CHECK THE NUMBER OF DIMENSIONS IN AN ARRAY .\n",
    "\n",
    "c = np.array(64)\n",
    "d = np.array([21,22,23,24,25,26])\n",
    "e = np.array ( [ [1,2,3,4] , [5,6,7,8] ] )\n",
    "f = np.array ( [ [ [31,32] , [33,34] ] , [ [35,36], [37,38] ] ] )\n",
    "\n",
    "print(c.ndim)\n",
    "print(d.ndim)\n",
    "print(e.ndim)\n",
    "print(f.ndim)"
   ]
  },
  {
   "cell_type": "code",
   "execution_count": 8,
   "id": "2a981c19",
   "metadata": {},
   "outputs": [
    {
     "name": "stdout",
     "output_type": "stream",
     "text": [
      "[[[[[1 2 3 4]]]]]\n",
      "THE NUMBERS OF DIMENSIONS : 5\n"
     ]
    }
   ],
   "source": [
    "# CREATE AN ARRAY WITH FIVE DIMENSIONS AND VERIFY THAT IT HAS FIVE DIMENSIONS .\n",
    "\n",
    "g = np.array ( [1,2,3,4] , ndmin = 5 )\n",
    "print(g)\n",
    "print ( \"THE NUMBERS OF DIMENSIONS :\" , g.ndim )"
   ]
  },
  {
   "cell_type": "code",
   "execution_count": null,
   "id": "5431fc8f",
   "metadata": {},
   "outputs": [],
   "source": []
  }
 ],
 "metadata": {
  "kernelspec": {
   "display_name": "Python 3 (ipykernel)",
   "language": "python",
   "name": "python3"
  },
  "language_info": {
   "codemirror_mode": {
    "name": "ipython",
    "version": 3
   },
   "file_extension": ".py",
   "mimetype": "text/x-python",
   "name": "python",
   "nbconvert_exporter": "python",
   "pygments_lexer": "ipython3",
   "version": "3.10.9"
  }
 },
 "nbformat": 4,
 "nbformat_minor": 5
}
