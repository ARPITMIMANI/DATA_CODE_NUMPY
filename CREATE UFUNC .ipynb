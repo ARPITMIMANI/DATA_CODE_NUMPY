{
 "cells": [
  {
   "cell_type": "code",
   "execution_count": 1,
   "id": "e119bfc1",
   "metadata": {},
   "outputs": [
    {
     "name": "stdout",
     "output_type": "stream",
     "text": [
      "[26 28 30 32]\n"
     ]
    }
   ],
   "source": [
    "'''\n",
    "TO CREATE OUR OWN ufunc() WE HAVE TO DEFINE A NORMAL FUNCTION LIKE PYTHON \n",
    "THEN ADD IT TO THE NUMPY FUNCTION WITH frompyfunc() METHOD.\n",
    "'''\n",
    "\n",
    "# ARGUMENTS OF frompyfunc() : FUNCTION , INPUTS , OUTPUTS .\n",
    "# CREATE OWN UFUNC FOR ADDITION .\n",
    "\n",
    "import numpy as np\n",
    "def my_addition (a,b):\n",
    "    return a + b\n",
    "\n",
    "my_addition = np.frompyfunc ( my_addition , 2 , 1 )\n",
    "c = my_addition ( [11,12,13,14] , [15,16,17,18] )\n",
    "print(c)"
   ]
  },
  {
   "cell_type": "code",
   "execution_count": 2,
   "id": "292694a9",
   "metadata": {},
   "outputs": [
    {
     "name": "stdout",
     "output_type": "stream",
     "text": [
      "[60 66 72 78]\n"
     ]
    }
   ],
   "source": [
    "import numpy as np\n",
    "def my_sum (d,e,f):\n",
    "    return d + e + f\n",
    "\n",
    "my_sum = np.frompyfunc ( my_sum , 3 , 1 )\n",
    "g = my_sum ( [12,14,16,18] , [20,22,24,26] , [28,30,32,34] )\n",
    "print(g)"
   ]
  },
  {
   "cell_type": "code",
   "execution_count": 3,
   "id": "e00472ec",
   "metadata": {},
   "outputs": [
    {
     "name": "stdout",
     "output_type": "stream",
     "text": [
      "<class 'numpy.ufunc'>\n"
     ]
    }
   ],
   "source": [
    "# CHECKING IF THE FUNCTION IS ufunc() OR NOT .\n",
    "\n",
    "import numpy as np\n",
    "print ( type(np.add) )"
   ]
  },
  {
   "cell_type": "code",
   "execution_count": 4,
   "id": "f9d03e4b",
   "metadata": {},
   "outputs": [
    {
     "name": "stdout",
     "output_type": "stream",
     "text": [
      "<class 'function'>\n"
     ]
    }
   ],
   "source": [
    "import numpy as np\n",
    "print ( type(np.concatenate) )"
   ]
  },
  {
   "cell_type": "code",
   "execution_count": 5,
   "id": "f690fa27",
   "metadata": {},
   "outputs": [
    {
     "name": "stdout",
     "output_type": "stream",
     "text": [
      "<class 'function'>\n"
     ]
    }
   ],
   "source": [
    "import numpy as np\n",
    "print ( type(np.sum) )"
   ]
  },
  {
   "cell_type": "code",
   "execution_count": 6,
   "id": "62168ca6",
   "metadata": {},
   "outputs": [
    {
     "name": "stdout",
     "output_type": "stream",
     "text": [
      "YES\n"
     ]
    }
   ],
   "source": [
    "# USING \"IF ELSE STATEMENT\" CHECKING IF THE FUNCTION IS ufunc() OR NOT .\n",
    "\n",
    "import numpy as np\n",
    "if type(np.add) == np.ufunc:\n",
    "    print(\"YES\")\n",
    "else:\n",
    "    print(\"NO\")"
   ]
  },
  {
   "cell_type": "code",
   "execution_count": null,
   "id": "d3d57d30",
   "metadata": {},
   "outputs": [],
   "source": []
  }
 ],
 "metadata": {
  "kernelspec": {
   "display_name": "Python 3 (ipykernel)",
   "language": "python",
   "name": "python3"
  },
  "language_info": {
   "codemirror_mode": {
    "name": "ipython",
    "version": 3
   },
   "file_extension": ".py",
   "mimetype": "text/x-python",
   "name": "python",
   "nbconvert_exporter": "python",
   "pygments_lexer": "ipython3",
   "version": "3.10.9"
  }
 },
 "nbformat": 4,
 "nbformat_minor": 5
}
