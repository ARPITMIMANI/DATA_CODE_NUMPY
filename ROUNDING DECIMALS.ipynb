{
 "cells": [
  {
   "cell_type": "code",
   "execution_count": 1,
   "id": "167e0f52",
   "metadata": {},
   "outputs": [
    {
     "name": "stdout",
     "output_type": "stream",
     "text": [
      "[-8. -5. -4. -3.  1.  2.  6.  7.]\n"
     ]
    }
   ],
   "source": [
    "'''\n",
    "ROUNDING DECIMALS : THERE ARE 5 WAYS OF ROUNDING DECIMALS .\n",
    "THEY ARE trunc() , fix() , around() , floor() , ceil() .\n",
    "'''\n",
    "\n",
    "# trunc() AND fix() REMOVES THE DECIMALS AND RETURN THE FLOAT NUMBER CLOSEST TO ZERO .\n",
    "# USING trunc() FUNCTION .\n",
    "\n",
    "import numpy as np\n",
    "xyz = np.trunc ([ -8.836 , -5.184 , -4.5 , -3.5 , 1.5 , 2.5 , 6.084 , 7.744 ])\n",
    "print(xyz)"
   ]
  },
  {
   "cell_type": "code",
   "execution_count": 2,
   "id": "0a2d2bf7",
   "metadata": {},
   "outputs": [
    {
     "name": "stdout",
     "output_type": "stream",
     "text": [
      "[-8. -5. -4. -3.  1.  2.  6.  7.]\n"
     ]
    }
   ],
   "source": [
    "# USING fix() FUNCTION .\n",
    "\n",
    "import numpy as np\n",
    "xyz = np.trunc ([ -8.836 , -5.184 , -4.5 , -3.5 , 1.5 , 2.5 , 6.084 , 7.744 ])\n",
    "print(xyz)"
   ]
  },
  {
   "cell_type": "code",
   "execution_count": 3,
   "id": "17c982f4",
   "metadata": {},
   "outputs": [
    {
     "name": "stdout",
     "output_type": "stream",
     "text": [
      "-8.84\n"
     ]
    }
   ],
   "source": [
    "# around() INCREMENTS PRECEDING DIGIT OR DECIMAL BY NEAREST TO ONE .\n",
    "# USING around() FUNCTION .\n",
    "\n",
    "import numpy as np\n",
    "a = np.around ( -8.836 , 2 )\n",
    "print(a)"
   ]
  },
  {
   "cell_type": "code",
   "execution_count": 4,
   "id": "b94720f7",
   "metadata": {},
   "outputs": [
    {
     "name": "stdout",
     "output_type": "stream",
     "text": [
      "-5.18\n"
     ]
    }
   ],
   "source": [
    "import numpy as np\n",
    "b = np.around ( -5.184 , 2 )\n",
    "print(b)"
   ]
  },
  {
   "cell_type": "code",
   "execution_count": 5,
   "id": "7aa17c70",
   "metadata": {},
   "outputs": [
    {
     "name": "stdout",
     "output_type": "stream",
     "text": [
      "-4.0\n"
     ]
    }
   ],
   "source": [
    "import numpy as np\n",
    "c = np.around ( -4.5 , 0 )\n",
    "print(c)"
   ]
  },
  {
   "cell_type": "code",
   "execution_count": 6,
   "id": "ccb5a37d",
   "metadata": {},
   "outputs": [
    {
     "name": "stdout",
     "output_type": "stream",
     "text": [
      "-4.0\n"
     ]
    }
   ],
   "source": [
    "import numpy as np\n",
    "d = np.around ( -3.5 , 0 )\n",
    "print(d)"
   ]
  },
  {
   "cell_type": "code",
   "execution_count": 7,
   "id": "0231084a",
   "metadata": {},
   "outputs": [
    {
     "name": "stdout",
     "output_type": "stream",
     "text": [
      "2.0\n"
     ]
    }
   ],
   "source": [
    "import numpy as np\n",
    "e = np.around ( 1.5 , 0 )\n",
    "print(e)"
   ]
  },
  {
   "cell_type": "code",
   "execution_count": 8,
   "id": "4189e4cb",
   "metadata": {},
   "outputs": [
    {
     "name": "stdout",
     "output_type": "stream",
     "text": [
      "2.0\n"
     ]
    }
   ],
   "source": [
    "import numpy as np\n",
    "d = np.around ( 2.5 , 0 )\n",
    "print(d)"
   ]
  },
  {
   "cell_type": "code",
   "execution_count": 9,
   "id": "57edd5f5",
   "metadata": {},
   "outputs": [
    {
     "name": "stdout",
     "output_type": "stream",
     "text": [
      "6.08\n"
     ]
    }
   ],
   "source": [
    "import numpy as np\n",
    "e = np.around ( 6.084 , 2 )\n",
    "print(e)"
   ]
  },
  {
   "cell_type": "code",
   "execution_count": 10,
   "id": "10d6a3da",
   "metadata": {},
   "outputs": [
    {
     "name": "stdout",
     "output_type": "stream",
     "text": [
      "7.74\n"
     ]
    }
   ],
   "source": [
    "import numpy as np\n",
    "f = np.around ( 7.744 , 2 )\n",
    "print(f)"
   ]
  },
  {
   "cell_type": "code",
   "execution_count": 11,
   "id": "8f07a73a",
   "metadata": {},
   "outputs": [
    {
     "name": "stdout",
     "output_type": "stream",
     "text": [
      "[-9. -6. -5. -4.  1.  2.  6.  7.]\n"
     ]
    }
   ],
   "source": [
    "# floor() ROUNDS OFF THE DECIMALS TO THE LOWER INTEGER .\n",
    "# USING floor() FUNCTION .\n",
    "\n",
    "import numpy as np\n",
    "xyz = np.floor ([ -8.836 , -5.184 , -4.5 , -3.5 , 1.5 , 2.5 , 6.084 , 7.744 ])\n",
    "print(xyz)"
   ]
  },
  {
   "cell_type": "code",
   "execution_count": 12,
   "id": "8fc8178d",
   "metadata": {},
   "outputs": [
    {
     "name": "stdout",
     "output_type": "stream",
     "text": [
      "[-8. -5. -4. -3.  2.  3.  7.  8.]\n"
     ]
    }
   ],
   "source": [
    "# ceil() ROUNDS OFF THE DECIMALS TO THE UPPER INTEGER .\n",
    "# USING ceil() FUNCTION .\n",
    "\n",
    "import numpy as np\n",
    "xyz = np.ceil ([ -8.836 , -5.184 , -4.5 , -3.5 , 1.5 , 2.5 , 6.084 , 7.744 ])\n",
    "print(xyz)"
   ]
  },
  {
   "cell_type": "code",
   "execution_count": null,
   "id": "81ba303c",
   "metadata": {},
   "outputs": [],
   "source": []
  }
 ],
 "metadata": {
  "kernelspec": {
   "display_name": "Python 3 (ipykernel)",
   "language": "python",
   "name": "python3"
  },
  "language_info": {
   "codemirror_mode": {
    "name": "ipython",
    "version": 3
   },
   "file_extension": ".py",
   "mimetype": "text/x-python",
   "name": "python",
   "nbconvert_exporter": "python",
   "pygments_lexer": "ipython3",
   "version": "3.10.9"
  }
 },
 "nbformat": 4,
 "nbformat_minor": 5
}
