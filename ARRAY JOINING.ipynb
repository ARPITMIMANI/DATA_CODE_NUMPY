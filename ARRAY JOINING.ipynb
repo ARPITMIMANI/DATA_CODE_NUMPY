{
 "cells": [
  {
   "cell_type": "code",
   "execution_count": 1,
   "id": "41afdcfe",
   "metadata": {},
   "outputs": [
    {
     "name": "stdout",
     "output_type": "stream",
     "text": [
      "[1 2 3 4 5 6]\n"
     ]
    }
   ],
   "source": [
    "# JOINING ONE DIMENSIONAL ARRAYS USING concatenate() .\n",
    "\n",
    "import numpy as np\n",
    "a1 = np.array([1,2,3])\n",
    "a2 = np.array([4,5,6])\n",
    "a3 = np.concatenate ((a1,a2))\n",
    "print(a3)"
   ]
  },
  {
   "cell_type": "code",
   "execution_count": 2,
   "id": "12599f59",
   "metadata": {},
   "outputs": [
    {
     "name": "stdout",
     "output_type": "stream",
     "text": [
      "['LIMA' 'OTTAWA' 'BOGOTA' 'HAVANA' 'QUITO' 'SANTIAGO' 'KINGSTON' 'CARACAS'\n",
      " 'BELMOPAN' 'GEORGETOWN' 'BRASILIA' 'BRIDGETOWN']\n"
     ]
    }
   ],
   "source": [
    "b1 = np.array ([ \"LIMA\" , \"OTTAWA\" , \"BOGOTA\" , \"HAVANA\" , \"QUITO\" , \"SANTIAGO\" ])\n",
    "b2 = np.array ([  \"KINGSTON\" , \"CARACAS\" , \"BELMOPAN\" , \"GEORGETOWN\" , \"BRASILIA\" , \"BRIDGETOWN\" ])\n",
    "b3 = np.concatenate ((b1,b2))\n",
    "print(b3)"
   ]
  },
  {
   "cell_type": "code",
   "execution_count": 3,
   "id": "93a01144",
   "metadata": {},
   "outputs": [
    {
     "name": "stdout",
     "output_type": "stream",
     "text": [
      "[[1 2 5 6]\n",
      " [3 4 7 8]]\n"
     ]
    }
   ],
   "source": [
    "# JOINING TWO DIMENSIONAL ARRAYS ALONG THE ROWS USING concatenate() .\n",
    "# ALONG THE ROWS MEANS axis = 1 .\n",
    "\n",
    "c1 = np.array ([ [1,2] , [3,4] ])\n",
    "c2 = np.array ([ [5,6] , [7,8] ])\n",
    "c3 = np.concatenate ( (c1,c2) , axis=1 )\n",
    "print(c3)"
   ]
  },
  {
   "cell_type": "code",
   "execution_count": 4,
   "id": "6cd9730a",
   "metadata": {},
   "outputs": [
    {
     "name": "stdout",
     "output_type": "stream",
     "text": [
      "[[1 4]\n",
      " [2 5]\n",
      " [3 6]]\n"
     ]
    }
   ],
   "source": [
    "# JOINING ONE DIMENSIONAL ARRAYS USING stack() .\n",
    "\n",
    "a1 = np.array([1,2,3])\n",
    "a2 = np.array([4,5,6])\n",
    "a3 = np.stack ( (a1,a2) , axis=1 )\n",
    "print(a3)"
   ]
  },
  {
   "cell_type": "code",
   "execution_count": 5,
   "id": "f27faf68",
   "metadata": {},
   "outputs": [
    {
     "name": "stdout",
     "output_type": "stream",
     "text": [
      "[1 2 3 4 5 6]\n"
     ]
    }
   ],
   "source": [
    "# JOINING ONE DIMENSIONAL ARRAYS USING hstack() .\n",
    "# hstack() MEANS STACKING ALONG THE ROW .\n",
    "\n",
    "a1 = np.array([1,2,3])\n",
    "a2 = np.array([4,5,6])\n",
    "a3 = np.hstack ((a1,a2))\n",
    "print(a3)"
   ]
  },
  {
   "cell_type": "code",
   "execution_count": 6,
   "id": "d31958c5",
   "metadata": {},
   "outputs": [
    {
     "name": "stdout",
     "output_type": "stream",
     "text": [
      "[[1 2 3]\n",
      " [4 5 6]]\n"
     ]
    }
   ],
   "source": [
    "# JOINING ONE DIMENSIONAL ARRAYS USING vstack() .\n",
    "# vstack() MEANS STACKING ALONG THE COLUMN .\n",
    "\n",
    "a1 = np.array([1,2,3])\n",
    "a2 = np.array([4,5,6])\n",
    "a3 = np.vstack ((a1,a2))\n",
    "print(a3)"
   ]
  },
  {
   "cell_type": "code",
   "execution_count": 7,
   "id": "c095c878",
   "metadata": {},
   "outputs": [
    {
     "name": "stdout",
     "output_type": "stream",
     "text": [
      "[[[1 4]\n",
      "  [2 5]\n",
      "  [3 6]]]\n"
     ]
    }
   ],
   "source": [
    "# JOINING ONE DIMENSIONAL ARRAYS USING dstack() .\n",
    "# dstack() MEANS STACKING ALONG THE HEIGHT OR DEPTH .\n",
    "\n",
    "a1 = np.array([1,2,3])\n",
    "a2 = np.array([4,5,6])\n",
    "a3 = np.dstack ((a1,a2))\n",
    "print(a3)"
   ]
  },
  {
   "cell_type": "code",
   "execution_count": null,
   "id": "8acb307f",
   "metadata": {},
   "outputs": [],
   "source": []
  }
 ],
 "metadata": {
  "kernelspec": {
   "display_name": "Python 3 (ipykernel)",
   "language": "python",
   "name": "python3"
  },
  "language_info": {
   "codemirror_mode": {
    "name": "ipython",
    "version": 3
   },
   "file_extension": ".py",
   "mimetype": "text/x-python",
   "name": "python",
   "nbconvert_exporter": "python",
   "pygments_lexer": "ipython3",
   "version": "3.10.9"
  }
 },
 "nbformat": 4,
 "nbformat_minor": 5
}
