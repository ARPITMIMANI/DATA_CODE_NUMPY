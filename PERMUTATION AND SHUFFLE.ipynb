{
 "cells": [
  {
   "cell_type": "code",
   "execution_count": 1,
   "id": "5cbe4d27",
   "metadata": {},
   "outputs": [
    {
     "name": "stdout",
     "output_type": "stream",
     "text": [
      "[12 15 14 16 13 11]\n"
     ]
    }
   ],
   "source": [
    "# PERMUTATION REFERS TO AN ARRANGEMENT OF ELEMENTS .\n",
    "# EXAMPLE : [1,2,3,4] IS PERMUTATION OF [4,3,2,1] OR VICE VERSA .\n",
    "\n",
    "# RANDOM MODULE HAS 2 METHODS : permutation() AND shuffle() \n",
    "# shuffle() : IT MAKES CHANGES TO THE ORIGINAL ARRAY .\n",
    "\n",
    "from numpy import random\n",
    "import numpy as np\n",
    "\n",
    "a = np.array([11,12,13,14,15,16])\n",
    "random.shuffle(a)\n",
    "print(a)"
   ]
  },
  {
   "cell_type": "code",
   "execution_count": 2,
   "id": "b3231474",
   "metadata": {},
   "outputs": [
    {
     "name": "stdout",
     "output_type": "stream",
     "text": [
      "[11 14 14 12 13 12]\n"
     ]
    }
   ],
   "source": [
    "from numpy import random\n",
    "import numpy as np\n",
    "\n",
    "b = np.array([11,12,12,13,14,14])\n",
    "random.shuffle(b)\n",
    "print(b)"
   ]
  },
  {
   "cell_type": "code",
   "execution_count": 3,
   "id": "7f294d63",
   "metadata": {},
   "outputs": [
    {
     "name": "stdout",
     "output_type": "stream",
     "text": [
      "[11 12 13 14 15 16]\n"
     ]
    }
   ],
   "source": [
    "# permutation() : IT LEAVES THE ORIGINAL ARRAY UNCHANGED .\n",
    "\n",
    "from numpy import random\n",
    "import numpy as np\n",
    "\n",
    "a = np.array([11,12,13,14,15,16])\n",
    "random.permutation(a)\n",
    "print(a)"
   ]
  },
  {
   "cell_type": "code",
   "execution_count": 4,
   "id": "43055bb2",
   "metadata": {},
   "outputs": [
    {
     "name": "stdout",
     "output_type": "stream",
     "text": [
      "[11 15 14 13 16 12]\n"
     ]
    }
   ],
   "source": [
    "from numpy import random\n",
    "import numpy as np\n",
    "\n",
    "a = np.array([11,12,13,14,15,16])\n",
    "x = random.permutation(a)\n",
    "print(x)"
   ]
  },
  {
   "cell_type": "code",
   "execution_count": 5,
   "id": "4172df8c",
   "metadata": {},
   "outputs": [
    {
     "name": "stdout",
     "output_type": "stream",
     "text": [
      "[11 12 14 12 14 13]\n"
     ]
    }
   ],
   "source": [
    "from numpy import random\n",
    "import numpy as np\n",
    "\n",
    "b = np.array([11,12,12,13,14,14])\n",
    "y = random.permutation(b)\n",
    "print(y)"
   ]
  },
  {
   "cell_type": "code",
   "execution_count": null,
   "id": "75e52f76",
   "metadata": {},
   "outputs": [],
   "source": []
  }
 ],
 "metadata": {
  "kernelspec": {
   "display_name": "Python 3 (ipykernel)",
   "language": "python",
   "name": "python3"
  },
  "language_info": {
   "codemirror_mode": {
    "name": "ipython",
    "version": 3
   },
   "file_extension": ".py",
   "mimetype": "text/x-python",
   "name": "python",
   "nbconvert_exporter": "python",
   "pygments_lexer": "ipython3",
   "version": "3.10.9"
  }
 },
 "nbformat": 4,
 "nbformat_minor": 5
}
