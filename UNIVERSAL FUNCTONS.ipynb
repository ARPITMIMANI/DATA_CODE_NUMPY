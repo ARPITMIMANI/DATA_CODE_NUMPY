{
 "cells": [
  {
   "cell_type": "code",
   "execution_count": 1,
   "id": "278c73fe",
   "metadata": {},
   "outputs": [
    {
     "name": "stdout",
     "output_type": "stream",
     "text": [
      "[28, 30, 32, 34, 36, 38]\n"
     ]
    }
   ],
   "source": [
    "# ufunc() STANDS FOR UNIVERSAL FUNCTION .\n",
    "# ufunc() ARE ACTUALLY NUMPY FUNCTIONS THAT OPERATES ON THE NDARRAY OBJECTS .\n",
    "# ufunc() ADDITIONAL ARGUMENTS : DTYPE , WHERE , OUT .\n",
    "# VECTORIZATION : IT IS BASICAALY CONVERSION OF ITERATIVE STATEMENTS INTO VECTOR BASED STATEMENTS .\n",
    "\n",
    "# EXAMPLE WITHOUT UFUNC WITH IN BUILD zip() .\n",
    "\n",
    "a = [11,12,13,14,15,16]\n",
    "b = [17,18,19,20,21,22]\n",
    "c = []\n",
    "for x , y in zip(a,b):\n",
    "    c.append(x+y)\n",
    "print(c)    "
   ]
  },
  {
   "cell_type": "code",
   "execution_count": 2,
   "id": "075c7c15",
   "metadata": {},
   "outputs": [
    {
     "name": "stdout",
     "output_type": "stream",
     "text": [
      "[28 30 32 34 36 38]\n"
     ]
    }
   ],
   "source": [
    "# EXAMPLE WITHOUT UFUNC WITH add() .\n",
    "\n",
    "import numpy as np\n",
    "a = [11,12,13,14,15,16]\n",
    "b = [17,18,19,20,21,22]\n",
    "c = np.add(a,b)\n",
    "print(c)"
   ]
  },
  {
   "cell_type": "code",
   "execution_count": null,
   "id": "5504ddfd",
   "metadata": {},
   "outputs": [],
   "source": []
  }
 ],
 "metadata": {
  "kernelspec": {
   "display_name": "Python 3 (ipykernel)",
   "language": "python",
   "name": "python3"
  },
  "language_info": {
   "codemirror_mode": {
    "name": "ipython",
    "version": 3
   },
   "file_extension": ".py",
   "mimetype": "text/x-python",
   "name": "python",
   "nbconvert_exporter": "python",
   "pygments_lexer": "ipython3",
   "version": "3.10.9"
  }
 },
 "nbformat": 4,
 "nbformat_minor": 5
}
