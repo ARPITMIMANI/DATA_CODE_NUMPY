{
 "cells": [
  {
   "cell_type": "code",
   "execution_count": 1,
   "id": "11fa5c75",
   "metadata": {},
   "outputs": [
    {
     "name": "stdout",
     "output_type": "stream",
     "text": [
      "1.0\n"
     ]
    }
   ],
   "source": [
    "'''\n",
    "TRIGONOMETRIC FUNCTIONS : NUMPY PROVIDES THE ufunc() LIKE sin() , cos() , tan() THAT TAKES VALUES IN RADIANS \n",
    "AND PRODUCE THE CORRESPONDING sin() , cos() , tan() VALUES .\n",
    "'''\n",
    "\n",
    "# FIND SIN VALUE OF pi/2 .\n",
    "\n",
    "import numpy as np\n",
    "a1 = np.sin(np.pi/2)\n",
    "print(a1)"
   ]
  },
  {
   "cell_type": "code",
   "execution_count": 2,
   "id": "536810a4",
   "metadata": {},
   "outputs": [
    {
     "name": "stdout",
     "output_type": "stream",
     "text": [
      "6.123233995736766e-17\n"
     ]
    }
   ],
   "source": [
    "# FIND COS VALUE OF pi/2 .\n",
    "\n",
    "import numpy as np\n",
    "a2 = np.cos(np.pi/2)\n",
    "print(a2)"
   ]
  },
  {
   "cell_type": "code",
   "execution_count": 3,
   "id": "2a2c6fba",
   "metadata": {},
   "outputs": [
    {
     "name": "stdout",
     "output_type": "stream",
     "text": [
      "1.633123935319537e+16\n"
     ]
    }
   ],
   "source": [
    "# FIND TAN VALUE OF pi/2 .\n",
    "\n",
    "import numpy as np\n",
    "a3 = np.tan(np.pi/2)\n",
    "print(a3)"
   ]
  },
  {
   "cell_type": "code",
   "execution_count": 4,
   "id": "0f809c08",
   "metadata": {},
   "outputs": [
    {
     "name": "stdout",
     "output_type": "stream",
     "text": [
      "[0.8660254  0.70710678 0.58778525 0.5        0.43388374 0.38268343]\n"
     ]
    }
   ],
   "source": [
    "# FIND SIN VALUE OF AN ARRAY .\n",
    "\n",
    "import numpy as np\n",
    "b1 = np.array ([ np.pi/3 , np.pi/4 , np.pi/5 , np.pi/6 , np.pi/7 , np.pi/8 ])\n",
    "xyz = np.sin(b1)\n",
    "print(xyz)"
   ]
  },
  {
   "cell_type": "code",
   "execution_count": 5,
   "id": "d222fb50",
   "metadata": {},
   "outputs": [
    {
     "name": "stdout",
     "output_type": "stream",
     "text": [
      "[0.5        0.70710678 0.80901699 0.8660254  0.90096887 0.92387953]\n"
     ]
    }
   ],
   "source": [
    "# FIND COS VALUE OF AN ARRAY .\n",
    "\n",
    "import numpy as np\n",
    "b2 = np.array ([ np.pi/3 , np.pi/4 , np.pi/5 , np.pi/6 , np.pi/7 , np.pi/8 ])\n",
    "xyz = np.cos(b2)\n",
    "print(xyz)"
   ]
  },
  {
   "cell_type": "code",
   "execution_count": 6,
   "id": "e86c47a6",
   "metadata": {},
   "outputs": [
    {
     "name": "stdout",
     "output_type": "stream",
     "text": [
      "[1.73205081 1.         0.72654253 0.57735027 0.48157462 0.41421356]\n"
     ]
    }
   ],
   "source": [
    "# FIND TAN VALUE OF AN ARRAY .\n",
    "\n",
    "import numpy as np\n",
    "b3 = np.array ([ np.pi/3 , np.pi/4 , np.pi/5 , np.pi/6 , np.pi/7 , np.pi/8 ])\n",
    "xyz = np.tan(b3)\n",
    "print(xyz)"
   ]
  },
  {
   "cell_type": "code",
   "execution_count": 7,
   "id": "f22c27ed",
   "metadata": {},
   "outputs": [
    {
     "name": "stdout",
     "output_type": "stream",
     "text": [
      "[1.04719755 2.0943951  3.14159265 4.1887902  5.23598776 6.28318531]\n"
     ]
    }
   ],
   "source": [
    "# BY DEFAULT ALL THE TRIGONOMETRIC FUNCTIONS TAKES RADIAN AS PARAMETER .\n",
    "# NOTE : RADIAN VALUE = pi/180 * DEGREE VALUE .\n",
    "\n",
    "# deg2rad() CONVETRS ALL ARRAY VALUES INTO RADIAN .\n",
    "# CONVERT ALL ARRAY VALUES TO RADIAN .\n",
    "\n",
    "import numpy as np\n",
    "c1 = np.array([60,120,180,240,300,360])\n",
    "xyz = np.deg2rad(c1)\n",
    "print(xyz)"
   ]
  },
  {
   "cell_type": "code",
   "execution_count": 8,
   "id": "e23237fe",
   "metadata": {},
   "outputs": [
    {
     "name": "stdout",
     "output_type": "stream",
     "text": [
      "[ 60. 120. 180. 240. 300. 360.]\n"
     ]
    }
   ],
   "source": [
    "# rad2deg() CONVETRS ALL ARRAY VALUES INTO DEGREE .\n",
    "# CONVERT ALL ARRAY VALUES TO DEGREE .\n",
    "\n",
    "import numpy as np\n",
    "c2 = np.array ([ np.pi/3 , 2*np.pi/3 , np.pi , 4*np.pi/3 , 5*np.pi/3 , 2*np.pi ])\n",
    "xyz = np.rad2deg(c2)\n",
    "print(xyz)"
   ]
  },
  {
   "cell_type": "code",
   "execution_count": 9,
   "id": "cfa3870d",
   "metadata": {},
   "outputs": [
    {
     "name": "stdout",
     "output_type": "stream",
     "text": [
      "[ 60. 120. 180. 240. 300. 360.]\n"
     ]
    }
   ],
   "source": [
    "import numpy as np\n",
    "c2 = np.array ([ np.pi/3 , np.pi*2/3 , np.pi , np.pi*4/3 , np.pi*5/3 , np.pi*2 ])\n",
    "xyz = np.rad2deg(c2)\n",
    "print(xyz)"
   ]
  },
  {
   "cell_type": "code",
   "execution_count": 10,
   "id": "2e52a904",
   "metadata": {},
   "outputs": [
    {
     "name": "stdout",
     "output_type": "stream",
     "text": [
      "1.5707963267948966\n"
     ]
    }
   ],
   "source": [
    "'''\n",
    "NUMPY PROVIDES THE ANGLES OF arcsin() , arccos() , arctan() THAT TAKES VALUES IN RADIANS \n",
    "AND PRODUCE THE CORRESPONDING sin() , cos() , tan() VALUES .\n",
    "'''\n",
    "\n",
    "# FIND ARCSIN ANGLE OF 1.0 .\n",
    "\n",
    "import numpy as np\n",
    "d1 = np.arcsin(1.0)\n",
    "print(d1)"
   ]
  },
  {
   "cell_type": "code",
   "execution_count": 11,
   "id": "a6576881",
   "metadata": {},
   "outputs": [
    {
     "name": "stdout",
     "output_type": "stream",
     "text": [
      "0.0\n"
     ]
    }
   ],
   "source": [
    "# FIND ARCCOS ANGLE OF 1.0 .\n",
    "\n",
    "import numpy as np\n",
    "d2 = np.arccos(1.0)\n",
    "print(d2)"
   ]
  },
  {
   "cell_type": "code",
   "execution_count": 12,
   "id": "22e469cc",
   "metadata": {},
   "outputs": [
    {
     "name": "stdout",
     "output_type": "stream",
     "text": [
      "0.7853981633974483\n"
     ]
    }
   ],
   "source": [
    "# FIND ARCTAN ANGLE OF 1.0 .\n",
    "\n",
    "import numpy as np\n",
    "d3 = np.arctan(1.0)\n",
    "print(d3)"
   ]
  },
  {
   "cell_type": "code",
   "execution_count": 13,
   "id": "347be593",
   "metadata": {},
   "outputs": [
    {
     "name": "stdout",
     "output_type": "stream",
     "text": [
      "[-1.57079633 -0.10016742  0.          0.10016742  1.57079633]\n"
     ]
    }
   ],
   "source": [
    "# FIND ARCSIN ANGLE OF AN ARRAY .\n",
    "\n",
    "import numpy as np\n",
    "e1 = np.array ([ -1.0 , -0.1 , 0.0 , 0.1 , 1.0 ])\n",
    "xyz = np.arcsin(e1)\n",
    "print(xyz)"
   ]
  },
  {
   "cell_type": "code",
   "execution_count": 14,
   "id": "604fc7ac",
   "metadata": {},
   "outputs": [
    {
     "name": "stdout",
     "output_type": "stream",
     "text": [
      "[3.14159265 1.67096375 1.57079633 1.47062891 0.        ]\n"
     ]
    }
   ],
   "source": [
    "# FIND ARCCOS ANGLE OF AN ARRAY .\n",
    "\n",
    "import numpy as np\n",
    "e2 = np.array ([ -1.0 , -0.1 , 0.0 , 0.1 , 1.0 ])\n",
    "xyz = np.arccos(e2)\n",
    "print(xyz)"
   ]
  },
  {
   "cell_type": "code",
   "execution_count": 15,
   "id": "222cc807",
   "metadata": {},
   "outputs": [
    {
     "name": "stdout",
     "output_type": "stream",
     "text": [
      "[-0.78539816 -0.09966865  0.          0.09966865  0.78539816]\n"
     ]
    }
   ],
   "source": [
    "# FIND ARCTAN ANGLE OF AN ARRAY .\n",
    "\n",
    "import numpy as np\n",
    "e3 = np.array ([ -1.0 , -0.1 , 0.0 , 0.1 , 1.0 ])\n",
    "xyz = np.arctan(e3)\n",
    "print(xyz)"
   ]
  },
  {
   "cell_type": "code",
   "execution_count": 16,
   "id": "d58d3066",
   "metadata": {},
   "outputs": [
    {
     "name": "stdout",
     "output_type": "stream",
     "text": [
      "10.0\n"
     ]
    }
   ],
   "source": [
    "# HYPOTENUSE CAN BE CALCUALTED BY USING PYTHAGORAS THEOREM IN NUMPY .\n",
    "# hypot() IS USED FOR FINDING THE HYPOTENUSE \n",
    "# hypot() TAKES VALUES IN RADIANS AND PRODUCE THE CORRESPONDING sin() , cos() , tan() VALUES .\n",
    "\n",
    "import numpy as np\n",
    "f1 = 8\n",
    "f2 = 6\n",
    "xyz = np.hypot(f1,f2)\n",
    "print(xyz)"
   ]
  },
  {
   "cell_type": "code",
   "execution_count": 17,
   "id": "036f2a8b",
   "metadata": {},
   "outputs": [
    {
     "name": "stdout",
     "output_type": "stream",
     "text": [
      "13.0\n"
     ]
    }
   ],
   "source": [
    "import numpy as np\n",
    "f3 = 12\n",
    "f4 = 5\n",
    "xyz = np.hypot(f3,f4)\n",
    "print(xyz)"
   ]
  },
  {
   "cell_type": "code",
   "execution_count": 18,
   "id": "cfe38854",
   "metadata": {},
   "outputs": [
    {
     "name": "stdout",
     "output_type": "stream",
     "text": [
      "11.40175425099138\n"
     ]
    }
   ],
   "source": [
    "import numpy as np\n",
    "f5 = 9\n",
    "f6 = 7\n",
    "xyz = np.hypot(f5,f6)\n",
    "print(xyz)"
   ]
  },
  {
   "cell_type": "code",
   "execution_count": null,
   "id": "4a594f15",
   "metadata": {},
   "outputs": [],
   "source": []
  }
 ],
 "metadata": {
  "kernelspec": {
   "display_name": "Python 3 (ipykernel)",
   "language": "python",
   "name": "python3"
  },
  "language_info": {
   "codemirror_mode": {
    "name": "ipython",
    "version": 3
   },
   "file_extension": ".py",
   "mimetype": "text/x-python",
   "name": "python",
   "nbconvert_exporter": "python",
   "pygments_lexer": "ipython3",
   "version": "3.10.9"
  }
 },
 "nbformat": 4,
 "nbformat_minor": 5
}
