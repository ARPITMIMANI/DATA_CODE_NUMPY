{
 "cells": [
  {
   "cell_type": "code",
   "execution_count": 1,
   "id": "d3f5f2c0",
   "metadata": {},
   "outputs": [
    {
     "name": "stdout",
     "output_type": "stream",
     "text": [
      "[11 13 15 17 19]\n"
     ]
    }
   ],
   "source": [
    "# GETTING SOME ELEMENTS OUT OF AN EXISTING ARRAY AND CREATING A NEW ARRAY IS CALLED FILTERING .\n",
    "# A BOOLEAN INDEX LIST IS A LIST OF BOOLEAN CORRESPONDING TO INDEXES IN THE ARRAY .\n",
    "# A BOOLEAN LIST CONSISTS OF True AND False ONLY .\n",
    "# CREATE AN ARRAY FROM BOOLEAN INDEX LIST .\n",
    "\n",
    "import numpy as np\n",
    "a = np.array([11,12,13,14,15,16,17,18,19,20])\n",
    "b = [ True , False , True , False , True , False , True , False , True , False ]\n",
    "c = a[b]\n",
    "print(c)"
   ]
  },
  {
   "cell_type": "code",
   "execution_count": 2,
   "id": "bcdf0e1a",
   "metadata": {},
   "outputs": [
    {
     "name": "stdout",
     "output_type": "stream",
     "text": [
      "[False, False, False, False, False, True, True, True, True, True]\n",
      "[ 6  7  8  9 10]\n"
     ]
    }
   ],
   "source": [
    "# CREATE AN ARRAY CONTAING VALUES GREATER THAN 5 FROM 1 TO 10 .\n",
    "\n",
    "d = np.array([1,2,3,4,5,6,7,8,9,10])\n",
    "e = []\n",
    "\n",
    "for xx in d:\n",
    "    if xx > 5:\n",
    "        e.append(True)\n",
    "    else:\n",
    "        e.append(False)\n",
    "\n",
    "f = d[e]\n",
    "print(e)\n",
    "print(f)"
   ]
  },
  {
   "cell_type": "code",
   "execution_count": 3,
   "id": "c923cb8d",
   "metadata": {},
   "outputs": [
    {
     "name": "stdout",
     "output_type": "stream",
     "text": [
      "[False, True, False, True, False, True, False, True, False, True]\n",
      "[22 24 26 28 30]\n"
     ]
    }
   ],
   "source": [
    "# CREATE AN ARRAY CONTAING EVEN VALUES FROM 21 TO 30 .\n",
    "\n",
    "g = np.array([21,22,23,24,25,26,27,28,29,30])\n",
    "h = []\n",
    "\n",
    "for yy in g:\n",
    "    if yy % 2 == 0:\n",
    "        h.append(True)\n",
    "    else:\n",
    "        h.append(False)\n",
    "        \n",
    "k = g[h]\n",
    "print(h)\n",
    "print(k)"
   ]
  },
  {
   "cell_type": "code",
   "execution_count": 4,
   "id": "eef87919",
   "metadata": {},
   "outputs": [
    {
     "name": "stdout",
     "output_type": "stream",
     "text": [
      "[False False False False False  True  True  True  True  True]\n",
      "[ 6  7  8  9 10]\n"
     ]
    }
   ],
   "source": [
    "# CREATE FILTER DIRECTLY FROM AN ARRAY .\n",
    "# CREATE AN ARRAY CONTAING VALUES GREATER THAN 5 FROM 1 TO 10 .\n",
    "\n",
    "d = np.array([1,2,3,4,5,6,7,8,9,10])\n",
    "e = d > 5 \n",
    "f = d[e]\n",
    "print(e)\n",
    "print(f)"
   ]
  },
  {
   "cell_type": "code",
   "execution_count": 5,
   "id": "79e29498",
   "metadata": {},
   "outputs": [
    {
     "name": "stdout",
     "output_type": "stream",
     "text": [
      "[False  True False  True False  True False  True False  True]\n",
      "[22 24 26 28 30]\n"
     ]
    }
   ],
   "source": [
    "# CREATE FILTER DIRECTLY FROM AN ARRAY .\n",
    "# CREATE AN ARRAY CONTAING EVEN VALUES FROM 21 TO 30 .\n",
    "\n",
    "g = np.array([21,22,23,24,25,26,27,28,29,30])\n",
    "h = g % 2 == 0\n",
    "k = g[h]\n",
    "print(h)\n",
    "print(k)"
   ]
  },
  {
   "cell_type": "code",
   "execution_count": null,
   "id": "980fe17c",
   "metadata": {},
   "outputs": [],
   "source": []
  }
 ],
 "metadata": {
  "kernelspec": {
   "display_name": "Python 3 (ipykernel)",
   "language": "python",
   "name": "python3"
  },
  "language_info": {
   "codemirror_mode": {
    "name": "ipython",
    "version": 3
   },
   "file_extension": ".py",
   "mimetype": "text/x-python",
   "name": "python",
   "nbconvert_exporter": "python",
   "pygments_lexer": "ipython3",
   "version": "3.10.9"
  }
 },
 "nbformat": 4,
 "nbformat_minor": 5
}
