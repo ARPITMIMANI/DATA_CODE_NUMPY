{
 "cells": [
  {
   "cell_type": "code",
   "execution_count": 1,
   "id": "767b468e",
   "metadata": {},
   "outputs": [
    {
     "name": "stdout",
     "output_type": "stream",
     "text": [
      "24024\n"
     ]
    }
   ],
   "source": [
    "# EXAMPLE OF prod() OF ARRAY [1,2,3,4] IS 1 * 2 * 3 * 4 = 24 .\n",
    "# USING prod() FUNCTION .\n",
    "\n",
    "import numpy as np\n",
    "a = np.array([11,12,13,14])\n",
    "xyz = np.prod(a)\n",
    "print(xyz)"
   ]
  },
  {
   "cell_type": "code",
   "execution_count": 2,
   "id": "dd684765",
   "metadata": {},
   "outputs": [
    {
     "name": "stdout",
     "output_type": "stream",
     "text": [
      "19958400\n"
     ]
    }
   ],
   "source": [
    "import numpy as np\n",
    "b = np.array([5,6,7,8])\n",
    "c = np.array([9,10,11,12])\n",
    "xyz = np.prod ([ b , c ])\n",
    "print(xyz)\n",
    "\n",
    "# ANSWER WILL BE 5 * 6 * 7 * 8 * 9 * 10 * 11 * 12"
   ]
  },
  {
   "cell_type": "code",
   "execution_count": 3,
   "id": "95f1e82d",
   "metadata": {},
   "outputs": [
    {
     "name": "stdout",
     "output_type": "stream",
     "text": [
      "[ 1680 11880]\n"
     ]
    }
   ],
   "source": [
    "# PRODUCT OVER AN AXIS : IF SPECIFY AXIS = 1 THEN NUMPY WILL PRODUCT THE NUMBERS OR ELEMENTS IN EACH ARRAY .\n",
    "\n",
    "import numpy as np\n",
    "b = np.array([5,6,7,8])\n",
    "c = np.array([9,10,11,12])\n",
    "xyz = np.prod ( [b,c] , axis=1 )\n",
    "print(xyz)"
   ]
  },
  {
   "cell_type": "code",
   "execution_count": 4,
   "id": "14148b81",
   "metadata": {},
   "outputs": [
    {
     "name": "stdout",
     "output_type": "stream",
     "text": [
      "[    9    90   990 11880]\n"
     ]
    }
   ],
   "source": [
    "# CUMMULATIVE PRODUCT : IT IS THE PARTAL PRODUCT OF THE ARRAY .\n",
    "# EXAMPLE [4,3,2,1] WOULD BE [ 4 , 4*3 , 4*3*2 , 4*3*2*1 ] = [4,12,24,24] .\n",
    "# USING cumprod() FUNCTION .\n",
    "\n",
    "import numpy as np\n",
    "c = np.array([9,10,11,12])\n",
    "xyz = np.cumprod(c)\n",
    "print(xyz)"
   ]
  },
  {
   "cell_type": "code",
   "execution_count": null,
   "id": "4d34fc95",
   "metadata": {},
   "outputs": [],
   "source": []
  }
 ],
 "metadata": {
  "kernelspec": {
   "display_name": "Python 3 (ipykernel)",
   "language": "python",
   "name": "python3"
  },
  "language_info": {
   "codemirror_mode": {
    "name": "ipython",
    "version": 3
   },
   "file_extension": ".py",
   "mimetype": "text/x-python",
   "name": "python",
   "nbconvert_exporter": "python",
   "pygments_lexer": "ipython3",
   "version": "3.10.9"
  }
 },
 "nbformat": 4,
 "nbformat_minor": 5
}
