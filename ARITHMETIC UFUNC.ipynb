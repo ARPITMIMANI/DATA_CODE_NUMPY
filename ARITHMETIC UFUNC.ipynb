{
 "cells": [
  {
   "cell_type": "code",
   "execution_count": 1,
   "id": "6220d37a",
   "metadata": {},
   "outputs": [
    {
     "name": "stdout",
     "output_type": "stream",
     "text": [
      "[ 26  52  78 104 130 156]\n"
     ]
    }
   ],
   "source": [
    "# ARITMETIC OPERATORS : + , - , * , / , // , % , ** .\n",
    "# USING add() FUNCTION .\n",
    "\n",
    "import numpy as np\n",
    "a = np.array([10,20,30,40,50,60])\n",
    "b = np.array([16,32,48,64,80,96])\n",
    "xyz = np.add(a,b)\n",
    "print(xyz)"
   ]
  },
  {
   "cell_type": "code",
   "execution_count": 2,
   "id": "e8d3840f",
   "metadata": {},
   "outputs": [
    {
     "name": "stdout",
     "output_type": "stream",
     "text": [
      "[ -6 -12 -18 -24 -30 -36]\n"
     ]
    }
   ],
   "source": [
    "# USING subtract() FUNCTION .\n",
    "\n",
    "import numpy as np\n",
    "a = np.array([10,20,30,40,50,60])\n",
    "b = np.array([16,32,48,64,80,96])\n",
    "xyz = np.subtract(a,b)\n",
    "print(xyz)"
   ]
  },
  {
   "cell_type": "code",
   "execution_count": 3,
   "id": "fc79ffc4",
   "metadata": {},
   "outputs": [
    {
     "name": "stdout",
     "output_type": "stream",
     "text": [
      "[ 6 12 18 24 30 36]\n"
     ]
    }
   ],
   "source": [
    "import numpy as np\n",
    "a = np.array([10,20,30,40,50,60])\n",
    "b = np.array([16,32,48,64,80,96])\n",
    "xyz = np.subtract(b,a)\n",
    "print(xyz)"
   ]
  },
  {
   "cell_type": "code",
   "execution_count": 4,
   "id": "7a60f260",
   "metadata": {},
   "outputs": [
    {
     "name": "stdout",
     "output_type": "stream",
     "text": [
      "[ 160  640 1440 2560 4000 5760]\n"
     ]
    }
   ],
   "source": [
    "# USING multiply() FUNCTION .\n",
    "\n",
    "import numpy as np\n",
    "a = np.array([10,20,30,40,50,60])\n",
    "b = np.array([16,32,48,64,80,96])\n",
    "xyz = np.multiply(a,b)\n",
    "print(xyz)"
   ]
  },
  {
   "cell_type": "code",
   "execution_count": 5,
   "id": "7b98d00b",
   "metadata": {},
   "outputs": [
    {
     "name": "stdout",
     "output_type": "stream",
     "text": [
      "[0.625 0.625 0.625 0.625 0.625 0.625]\n"
     ]
    }
   ],
   "source": [
    "# USING divide() FUNCTION .\n",
    "\n",
    "import numpy as np\n",
    "a = np.array([10,20,30,40,50,60])\n",
    "b = np.array([16,32,48,64,80,96])\n",
    "xyz = np.divide(a,b)\n",
    "print(xyz)"
   ]
  },
  {
   "cell_type": "code",
   "execution_count": 6,
   "id": "4a24d049",
   "metadata": {},
   "outputs": [
    {
     "name": "stdout",
     "output_type": "stream",
     "text": [
      "[1.6 1.6 1.6 1.6 1.6 1.6]\n"
     ]
    }
   ],
   "source": [
    "import numpy as np\n",
    "a = np.array([10,20,30,40,50,60])\n",
    "b = np.array([16,32,48,64,80,96])\n",
    "xyz = np.divide(b,a)\n",
    "print(xyz)"
   ]
  },
  {
   "cell_type": "code",
   "execution_count": 7,
   "id": "b4f73f5a",
   "metadata": {},
   "outputs": [
    {
     "name": "stdout",
     "output_type": "stream",
     "text": [
      "[46656 16384   512  3125  6561  2401]\n"
     ]
    }
   ],
   "source": [
    "''' \n",
    "power() RAISES THE VALUE FROM THE 1ST ARRAY TO THE POWER \n",
    "OF THE VALUES OF THE 2ND ARRAY AND RETURN RESULTS IN A NEW ARRAY .\n",
    "'''\n",
    "\n",
    "# USING power() FUNCTION .\n",
    "\n",
    "import numpy as np\n",
    "c = np.array([6,4,8,5,3,7])\n",
    "d = np.array([6,7,3,5,8,4])\n",
    "xyz = np.power(c,d)\n",
    "print(xyz)"
   ]
  },
  {
   "cell_type": "code",
   "execution_count": 8,
   "id": "48bd92ec",
   "metadata": {},
   "outputs": [
    {
     "name": "stdout",
     "output_type": "stream",
     "text": [
      "[2 2 4 1 5 0]\n"
     ]
    }
   ],
   "source": [
    "''' \n",
    "mod() AND remainder() RETURNS THE REMAINDER OF THE 1ST ARRAY CORRESPONDING \n",
    "TO THE 2ND ARRAY AND RESULT IN THE NEW ARRAY .\n",
    "'''\n",
    "\n",
    "# USING mod() FUNCTION .\n",
    "\n",
    "import numpy as np\n",
    "e = np.array([52,56,60,64,68,72])\n",
    "f = np.array([5,6,8,3,7,4])\n",
    "xyz = np.mod(e,f)\n",
    "print(xyz)"
   ]
  },
  {
   "cell_type": "code",
   "execution_count": 9,
   "id": "9d1a8332",
   "metadata": {},
   "outputs": [
    {
     "name": "stdout",
     "output_type": "stream",
     "text": [
      "[5 6 8 3 7 4]\n"
     ]
    }
   ],
   "source": [
    "import numpy as np\n",
    "e = np.array([52,56,60,64,68,72])\n",
    "f = np.array([5,6,8,3,7,4])\n",
    "xyz = np.mod(f,e)\n",
    "print(xyz)"
   ]
  },
  {
   "cell_type": "code",
   "execution_count": 10,
   "id": "957c17e4",
   "metadata": {},
   "outputs": [
    {
     "name": "stdout",
     "output_type": "stream",
     "text": [
      "[2 2 4 1 5 0]\n"
     ]
    }
   ],
   "source": [
    "# USING remainder() FUNCTION .\n",
    "\n",
    "import numpy as np\n",
    "e = np.array([52,56,60,64,68,72])\n",
    "f = np.array([5,6,8,3,7,4])\n",
    "xyz = np.remainder(e,f)\n",
    "print(xyz)"
   ]
  },
  {
   "cell_type": "code",
   "execution_count": 11,
   "id": "8b976e74",
   "metadata": {},
   "outputs": [
    {
     "name": "stdout",
     "output_type": "stream",
     "text": [
      "[5 6 8 3 7 4]\n"
     ]
    }
   ],
   "source": [
    "import numpy as np\n",
    "e = np.array([52,56,60,64,68,72])\n",
    "f = np.array([5,6,8,3,7,4])\n",
    "xyz = np.remainder(f,e)\n",
    "print(xyz)"
   ]
  },
  {
   "cell_type": "code",
   "execution_count": 12,
   "id": "002adb4e",
   "metadata": {},
   "outputs": [
    {
     "name": "stdout",
     "output_type": "stream",
     "text": [
      "(array([10,  9,  7, 21,  9, 18]), array([2, 2, 4, 1, 5, 0]))\n"
     ]
    }
   ],
   "source": [
    "# divmod() RETURNS BOTH THE QUOTIENT AND THE REMAINDER .\n",
    "# USING divmod() FUNCTION .\n",
    "\n",
    "import numpy as np\n",
    "e = np.array([52,56,60,64,68,72])\n",
    "f = np.array([5,6,8,3,7,4])\n",
    "xyz = np.divmod(e,f)\n",
    "print(xyz)"
   ]
  },
  {
   "cell_type": "code",
   "execution_count": 13,
   "id": "f2d52266",
   "metadata": {},
   "outputs": [
    {
     "name": "stdout",
     "output_type": "stream",
     "text": [
      "[12  8  4  0  4  8]\n"
     ]
    }
   ],
   "source": [
    "''' \n",
    "absolute() AND abs() DO THE SAME OPERATION BUT IN ufunc() USE THE absolute() TO AVOID\n",
    "CONFUSION WITH PYTHON IN BUILT FUNCTION math.abs() .\n",
    "'''\n",
    "\n",
    "# USING absolute() FUNCTION .\n",
    "\n",
    "import numpy as np\n",
    "g = np.array([-12,-8,-4,0,4,8])\n",
    "xyz = np.absolute(g)\n",
    "print(xyz)"
   ]
  },
  {
   "cell_type": "code",
   "execution_count": 14,
   "id": "575d240c",
   "metadata": {},
   "outputs": [
    {
     "name": "stdout",
     "output_type": "stream",
     "text": [
      "[12  8  4  0  4  8]\n"
     ]
    }
   ],
   "source": [
    "# USING abs() FUNCTION .\n",
    "\n",
    "import numpy as np\n",
    "g = np.array([-12,-8,-4,0,4,8])\n",
    "xyz = np.abs(g)\n",
    "print(xyz)"
   ]
  },
  {
   "cell_type": "code",
   "execution_count": null,
   "id": "4b4f4e23",
   "metadata": {},
   "outputs": [],
   "source": []
  }
 ],
 "metadata": {
  "kernelspec": {
   "display_name": "Python 3 (ipykernel)",
   "language": "python",
   "name": "python3"
  },
  "language_info": {
   "codemirror_mode": {
    "name": "ipython",
    "version": 3
   },
   "file_extension": ".py",
   "mimetype": "text/x-python",
   "name": "python",
   "nbconvert_exporter": "python",
   "pygments_lexer": "ipython3",
   "version": "3.10.9"
  }
 },
 "nbformat": 4,
 "nbformat_minor": 5
}
