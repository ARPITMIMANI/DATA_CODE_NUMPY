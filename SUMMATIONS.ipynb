{
 "cells": [
  {
   "cell_type": "code",
   "execution_count": 1,
   "id": "3c814cc7",
   "metadata": {},
   "outputs": [
    {
     "name": "stdout",
     "output_type": "stream",
     "text": [
      "[32 36 40 44]\n"
     ]
    }
   ],
   "source": [
    "# ADDITION IS DONE BEWEEN 2 ARGUMENTS .\n",
    "# SUMMATION IS DONE BETWEEN N ELEMENTS .\n",
    "\n",
    "# USING add() FUNCTION .\n",
    "\n",
    "import numpy as np\n",
    "a = np.array([12,14,16,18])\n",
    "b = np.array([20,22,24,26])\n",
    "xyz = np.add(a,b)\n",
    "print(xyz)"
   ]
  },
  {
   "cell_type": "code",
   "execution_count": 2,
   "id": "153e2115",
   "metadata": {},
   "outputs": [
    {
     "name": "stdout",
     "output_type": "stream",
     "text": [
      "152\n"
     ]
    }
   ],
   "source": [
    "# USING sum() FUNCTION .\n",
    "\n",
    "import numpy as np\n",
    "a = np.array([12,14,16,18])\n",
    "b = np.array([20,22,24,26])\n",
    "xyz = np.sum ([ a , b ])\n",
    "print(xyz)\n",
    "\n",
    "# ANSWER WILL BE 12 + 14 + 16 + 18 + 20 + 22 + 24 + 26 ."
   ]
  },
  {
   "cell_type": "code",
   "execution_count": 3,
   "id": "de7a99f3",
   "metadata": {},
   "outputs": [
    {
     "name": "stdout",
     "output_type": "stream",
     "text": [
      "[60 92]\n"
     ]
    }
   ],
   "source": [
    "# SUMMATION OVER AN AXIS : IF SPECIFY AXIS = 1 THEN NUMPY WILL SUM THE NUMBERS OR ELEMENTS IN EACH ARRAY .\n",
    "\n",
    "import numpy as np\n",
    "a = np.array([12,14,16,18])\n",
    "b = np.array([20,22,24,26])\n",
    "xyz = np.sum ( [a,b] , axis=1 )\n",
    "print(xyz)"
   ]
  },
  {
   "cell_type": "code",
   "execution_count": 4,
   "id": "12bbcc92",
   "metadata": {},
   "outputs": [
    {
     "name": "stdout",
     "output_type": "stream",
     "text": [
      "[ 32  66 102 140 180 222]\n"
     ]
    }
   ],
   "source": [
    "# CUMMULATIVE SUM : IT MEANS PARTIALLY ADDING THE ELEMENT IN AN ARRAY .\n",
    "# EXAMPLE [4,3,2,1] WOULD BE [ 4 , 4+3 , 4+3+2 , 4+3+2+1 ] = [4,7,9,10] .\n",
    "# USING cumsum() FUNCTION .\n",
    "\n",
    "import numpy as np\n",
    "c = np.array([32,34,36,38,40,42])\n",
    "xyz = np.cumsum(c)\n",
    "print(xyz)"
   ]
  },
  {
   "cell_type": "code",
   "execution_count": null,
   "id": "bdd6070c",
   "metadata": {},
   "outputs": [],
   "source": []
  }
 ],
 "metadata": {
  "kernelspec": {
   "display_name": "Python 3 (ipykernel)",
   "language": "python",
   "name": "python3"
  },
  "language_info": {
   "codemirror_mode": {
    "name": "ipython",
    "version": 3
   },
   "file_extension": ".py",
   "mimetype": "text/x-python",
   "name": "python",
   "nbconvert_exporter": "python",
   "pygments_lexer": "ipython3",
   "version": "3.10.9"
  }
 },
 "nbformat": 4,
 "nbformat_minor": 5
}
