{
 "cells": [
  {
   "cell_type": "code",
   "execution_count": 1,
   "id": "67b0bacd",
   "metadata": {},
   "outputs": [
    {
     "name": "stdout",
     "output_type": "stream",
     "text": [
      "4\n"
     ]
    }
   ],
   "source": [
    "# GCD FULL FORM IS GREATEST COMMON DENOMINATOR .\n",
    "# GCD IS ALSO KNOWN AS HCF THAT IS HIGHEST COMMON FACTOR .\n",
    "# FIND THE HCF OF 2 NUMBERS .\n",
    "# USING gcd() FUNCTION .\n",
    "\n",
    "import numpy as np\n",
    "a = 16\n",
    "b = 12\n",
    "xyz = np.gcd(a,b)\n",
    "print(xyz)"
   ]
  },
  {
   "cell_type": "code",
   "execution_count": 2,
   "id": "e22fab62",
   "metadata": {},
   "outputs": [
    {
     "name": "stdout",
     "output_type": "stream",
     "text": [
      "8\n"
     ]
    }
   ],
   "source": [
    "# FIND THE HCF OF AN ARRAY .\n",
    "# USING gcd.reduce() FUNCTION .\n",
    "\n",
    "import numpy as np\n",
    "c = np.array([40,64,24,56,32,48])\n",
    "xyz = np.gcd.reduce(c)\n",
    "print(xyz)\n",
    "\n",
    "# THE reduce() WILL USE THE ufunc() SO THE lcm() ON EACH ELEMENTS WILL REDUCE THE ARRAY BY ONE DIMENSION ."
   ]
  },
  {
   "cell_type": "code",
   "execution_count": 3,
   "id": "aa3a3a78",
   "metadata": {},
   "outputs": [
    {
     "name": "stdout",
     "output_type": "stream",
     "text": [
      "1\n"
     ]
    }
   ],
   "source": [
    "# FIND THE HCF OF AN ARRAY .\n",
    "# USING gcd.reduce() FUNCTION .\n",
    "\n",
    "import numpy as np\n",
    "d = np.array([11,12,13,14])\n",
    "xyz = np.gcd.reduce(d)\n",
    "print(xyz)"
   ]
  },
  {
   "cell_type": "code",
   "execution_count": null,
   "id": "7dd56d7e",
   "metadata": {},
   "outputs": [],
   "source": []
  }
 ],
 "metadata": {
  "kernelspec": {
   "display_name": "Python 3 (ipykernel)",
   "language": "python",
   "name": "python3"
  },
  "language_info": {
   "codemirror_mode": {
    "name": "ipython",
    "version": 3
   },
   "file_extension": ".py",
   "mimetype": "text/x-python",
   "name": "python",
   "nbconvert_exporter": "python",
   "pygments_lexer": "ipython3",
   "version": "3.10.9"
  }
 },
 "nbformat": 4,
 "nbformat_minor": 5
}
