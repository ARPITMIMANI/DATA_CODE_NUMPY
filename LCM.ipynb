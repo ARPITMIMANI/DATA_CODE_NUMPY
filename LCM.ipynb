{
 "cells": [
  {
   "cell_type": "code",
   "execution_count": 1,
   "id": "aa7d97c4",
   "metadata": {},
   "outputs": [
    {
     "name": "stdout",
     "output_type": "stream",
     "text": [
      "48\n"
     ]
    }
   ],
   "source": [
    "# LCM FULL FORM IS LOWEST COMMON MULTIPLE .\n",
    "# FIND THE LCM OF 2 NUMBERS .\n",
    "# USING lcm() FUNCTION .\n",
    "\n",
    "import numpy as np\n",
    "a = 16\n",
    "b = 12\n",
    "xyz = np.lcm(a,b)\n",
    "print(xyz)"
   ]
  },
  {
   "cell_type": "code",
   "execution_count": 2,
   "id": "7c3ba874",
   "metadata": {},
   "outputs": [
    {
     "name": "stdout",
     "output_type": "stream",
     "text": [
      "240\n"
     ]
    }
   ],
   "source": [
    "# FIND THE LCM OF AN ARRAY .\n",
    "# USING lcm.reduce() FUNCTION .\n",
    "\n",
    "import numpy as np\n",
    "c = np.array([12,16,20])\n",
    "xyz = np.lcm.reduce(c)\n",
    "print(xyz)\n",
    "\n",
    "# THE reduce() WILL USE THE ufunc() SO THE lcm() ON EACH ELEMENTS WILL REDUCE THE ARRAY BY ONE DIMENSION ."
   ]
  },
  {
   "cell_type": "code",
   "execution_count": 3,
   "id": "b5766302",
   "metadata": {},
   "outputs": [
    {
     "name": "stdout",
     "output_type": "stream",
     "text": [
      "2520\n"
     ]
    }
   ],
   "source": [
    "# FIND THE LCM OF AN ARRAY THAT CONTAINS ALL INTEGERS FROM 1 TO 10 .\n",
    "# USING lcm.reduce() FUNCTION .\n",
    "\n",
    "import numpy as np\n",
    "d = np.arange(1,11)\n",
    "xyz = np.lcm.reduce(d)\n",
    "print(xyz)"
   ]
  },
  {
   "cell_type": "code",
   "execution_count": null,
   "id": "9b6be850",
   "metadata": {},
   "outputs": [],
   "source": []
  }
 ],
 "metadata": {
  "kernelspec": {
   "display_name": "Python 3 (ipykernel)",
   "language": "python",
   "name": "python3"
  },
  "language_info": {
   "codemirror_mode": {
    "name": "ipython",
    "version": 3
   },
   "file_extension": ".py",
   "mimetype": "text/x-python",
   "name": "python",
   "nbconvert_exporter": "python",
   "pygments_lexer": "ipython3",
   "version": "3.10.9"
  }
 },
 "nbformat": 4,
 "nbformat_minor": 5
}
