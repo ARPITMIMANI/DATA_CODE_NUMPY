{
 "cells": [
  {
   "cell_type": "code",
   "execution_count": 1,
   "id": "b1f445da",
   "metadata": {},
   "outputs": [
    {
     "name": "stdout",
     "output_type": "stream",
     "text": [
      "[[ 1  2  3]\n",
      " [ 4  5  6]\n",
      " [ 7  8  9]\n",
      " [10 11 12]]\n"
     ]
    }
   ],
   "source": [
    "# RESHAPING MEANS CHANGING THE SHAPE OF AN ARRAY LIKE ADDING OR REMOVING THE ELEMENTS .\n",
    "# RESHAPING ARRAY FROM ONE DIMENSIONAL TO TWO DIMENSIONAL .\n",
    "\n",
    "import numpy as np\n",
    "a = np.array([1,2,3,4,5,6,7,8,9,10,11,12])\n",
    "b = a.reshape(4,3)\n",
    "print(b)"
   ]
  },
  {
   "cell_type": "code",
   "execution_count": 2,
   "id": "5eb24dc6",
   "metadata": {},
   "outputs": [
    {
     "name": "stdout",
     "output_type": "stream",
     "text": [
      "[[[ 1  2]\n",
      "  [ 3  4]\n",
      "  [ 5  6]]\n",
      "\n",
      " [[ 7  8]\n",
      "  [ 9 10]\n",
      "  [11 12]]]\n"
     ]
    }
   ],
   "source": [
    "# RESHAPING ARRAY FROM ONE DIMENSIONAL TO THREE DIMENSIONAL .\n",
    "\n",
    "a = np.array([1,2,3,4,5,6,7,8,9,10,11,12])\n",
    "c = a.reshape(2,3,2)\n",
    "print(c)"
   ]
  },
  {
   "cell_type": "code",
   "execution_count": 3,
   "id": "fdf2a691",
   "metadata": {},
   "outputs": [
    {
     "name": "stdout",
     "output_type": "stream",
     "text": [
      "[ 1  2  3  4  5  6  7  8  9 10 11 12]\n"
     ]
    }
   ],
   "source": [
    "# RETURN VIEW \n",
    "\n",
    "a = np.array([1,2,3,4,5,6,7,8,9,10,11,12])\n",
    "c = a.reshape(2,3,2).base\n",
    "print(c)"
   ]
  },
  {
   "cell_type": "code",
   "execution_count": 4,
   "id": "921cd4f4",
   "metadata": {},
   "outputs": [
    {
     "name": "stdout",
     "output_type": "stream",
     "text": [
      "[[[ 1  2  3]\n",
      "  [ 4  5  6]]\n",
      "\n",
      " [[ 7  8  9]\n",
      "  [10 11 12]]]\n"
     ]
    }
   ],
   "source": [
    "# WE ARE ALLOWED TO HAVE ONLY ONE UNKOWN DIMENSION .\n",
    "# FOR UNKOWN DIMENSION WE PASS \"-1\" .\n",
    "\n",
    "a = np.array([1,2,3,4,5,6,7,8,9,10,11,12])\n",
    "d = a.reshape(2,2,-1)\n",
    "print(d)"
   ]
  },
  {
   "cell_type": "code",
   "execution_count": 5,
   "id": "91895f9b",
   "metadata": {},
   "outputs": [
    {
     "name": "stdout",
     "output_type": "stream",
     "text": [
      "[[[ 1  2]\n",
      "  [ 3  4]\n",
      "  [ 5  6]]\n",
      "\n",
      " [[ 7  8]\n",
      "  [ 9 10]\n",
      "  [11 12]]]\n"
     ]
    }
   ],
   "source": [
    "a = np.array([1,2,3,4,5,6,7,8,9,10,11,12])\n",
    "e = a.reshape(2,-1,2)\n",
    "print(e)"
   ]
  },
  {
   "cell_type": "code",
   "execution_count": 6,
   "id": "f50938cb",
   "metadata": {},
   "outputs": [
    {
     "name": "stdout",
     "output_type": "stream",
     "text": [
      "[[[ 1  2  3]\n",
      "  [ 4  5  6]]\n",
      "\n",
      " [[ 7  8  9]\n",
      "  [10 11 12]]]\n"
     ]
    }
   ],
   "source": [
    "a = np.array([1,2,3,4,5,6,7,8,9,10,11,12])\n",
    "f = a.reshape(-1,2,3)\n",
    "print(f)"
   ]
  },
  {
   "cell_type": "code",
   "execution_count": 7,
   "id": "937896a6",
   "metadata": {},
   "outputs": [
    {
     "name": "stdout",
     "output_type": "stream",
     "text": [
      "[1 2 3 4 5 6 7 8]\n"
     ]
    },
    {
     "data": {
      "text/plain": [
       "' \\nTHERE ARE A LOT OF FUNCTIONS FOR CHANGING THE SHAPE OF AN ARRAY IN NUMPY LIKE \\nFLATTERN , RAVEL , REARRANGE , ROT90 , FLIP , FLIPLR , FLIPUD . \\nTHEY ARE ALL ACTUALLY COMES UNDER ADVANCE NUMPY . \\n'"
      ]
     },
     "execution_count": 7,
     "metadata": {},
     "output_type": "execute_result"
    }
   ],
   "source": [
    "# FLATTENING THE ARRAY BY CONVERTING MULTI-DIMENSIONAL ARRAY TO ONE DIMENSIONAL ARRAY .\n",
    "\n",
    "g = np.array ([ [1,2,3,4] , [5,6,7,8] ])\n",
    "h = g.reshape(-1)\n",
    "print(h)\n",
    "\n",
    "''' \n",
    "THERE ARE A LOT OF FUNCTIONS FOR CHANGING THE SHAPE OF AN ARRAY IN NUMPY LIKE \n",
    "FLATTERN , RAVEL , REARRANGE , ROT90 , FLIP , FLIPLR , FLIPUD . \n",
    "THEY ARE ALL ACTUALLY COMES UNDER ADVANCE NUMPY . \n",
    "'''"
   ]
  },
  {
   "cell_type": "code",
   "execution_count": null,
   "id": "b79d0dc1",
   "metadata": {},
   "outputs": [],
   "source": []
  }
 ],
 "metadata": {
  "kernelspec": {
   "display_name": "Python 3 (ipykernel)",
   "language": "python",
   "name": "python3"
  },
  "language_info": {
   "codemirror_mode": {
    "name": "ipython",
    "version": 3
   },
   "file_extension": ".py",
   "mimetype": "text/x-python",
   "name": "python",
   "nbconvert_exporter": "python",
   "pygments_lexer": "ipython3",
   "version": "3.10.9"
  }
 },
 "nbformat": 4,
 "nbformat_minor": 5
}
