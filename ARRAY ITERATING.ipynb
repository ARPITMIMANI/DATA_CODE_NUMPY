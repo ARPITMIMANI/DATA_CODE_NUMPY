{
 "cells": [
  {
   "cell_type": "code",
   "execution_count": 1,
   "id": "050e7ee0",
   "metadata": {},
   "outputs": [
    {
     "name": "stdout",
     "output_type": "stream",
     "text": [
      "1\n",
      "2\n",
      "3\n"
     ]
    }
   ],
   "source": [
    "# ITERATING ARRAY : IT MEANS GOING THROUGH THE ELEMENTS ONE BY ONE OR STEP BY STEP LIKE FOR LOOP .\n",
    "# ITERATE ONE DIMENSIONAL ARRAY .\n",
    "\n",
    "import numpy as np\n",
    "a = np.array([1,2,3])\n",
    "for x in a:\n",
    "    print(x)"
   ]
  },
  {
   "cell_type": "code",
   "execution_count": 2,
   "id": "8f3496d9",
   "metadata": {},
   "outputs": [
    {
     "name": "stdout",
     "output_type": "stream",
     "text": [
      "[1 2 3]\n",
      "[4 5 6]\n"
     ]
    }
   ],
   "source": [
    "# ITERATE TWO DIMENSIONAL ARRAY .\n",
    "\n",
    "b = np.array ([ [1,2,3] , [4,5,6] ])\n",
    "for x in b:\n",
    "    print(x)"
   ]
  },
  {
   "cell_type": "code",
   "execution_count": 3,
   "id": "0d064945",
   "metadata": {},
   "outputs": [
    {
     "name": "stdout",
     "output_type": "stream",
     "text": [
      "1\n",
      "2\n",
      "3\n",
      "4\n",
      "5\n",
      "6\n"
     ]
    }
   ],
   "source": [
    "# ITERATE ON EACH SCALAR ELEMENT OF TWO DIMENSIONAL ARRAY .\n",
    "\n",
    "b = np.array ([ [1,2,3] , [4,5,6] ])\n",
    "for x in b:\n",
    "    for y in x:\n",
    "        print(y)"
   ]
  },
  {
   "cell_type": "code",
   "execution_count": 4,
   "id": "f3b255e2",
   "metadata": {},
   "outputs": [
    {
     "name": "stdout",
     "output_type": "stream",
     "text": [
      "1\n",
      "2\n",
      "3\n",
      "4\n",
      "5\n",
      "6\n",
      "7\n",
      "8\n",
      "9\n",
      "10\n",
      "11\n",
      "12\n"
     ]
    }
   ],
   "source": [
    "# ITERATE ON EACH SCALAR ELEMENT OF THREE DIMENSIONAL ARRAY .\n",
    "\n",
    "c = np.array ([[ [1,2,3] , [4,5,6] , [7,8,9] , [10,11,12] ]])\n",
    "for x in c:\n",
    "    for y in x:\n",
    "        for z in y:\n",
    "            print(z)"
   ]
  },
  {
   "cell_type": "code",
   "execution_count": 5,
   "id": "1d870a8e",
   "metadata": {},
   "outputs": [
    {
     "name": "stdout",
     "output_type": "stream",
     "text": [
      "1\n",
      "2\n",
      "3\n",
      "4\n",
      "5\n",
      "6\n",
      "7\n",
      "8\n"
     ]
    }
   ],
   "source": [
    "# nditer() USED TO ITERATE ON EACH SCALAR ELEMENT OF MULTI-DIMENSIONAL ARRAY .\n",
    "\n",
    "d = np.array ([[ [1,2] , [3,4] , [5,6] , [7,8] ]])\n",
    "for x in np.nditer(d):\n",
    "    print(x)"
   ]
  },
  {
   "cell_type": "code",
   "execution_count": 6,
   "id": "04f2f466",
   "metadata": {},
   "outputs": [
    {
     "name": "stdout",
     "output_type": "stream",
     "text": [
      "1\n",
      "3\n",
      "5\n",
      "7\n"
     ]
    }
   ],
   "source": [
    "# ITERATE WITH DIFFERENT STEP SIZES .\n",
    "\n",
    "e = np.array ([ [1,2,3,4] , [5,6,7,8] ])\n",
    "for x in np.nditer (e[:,::2]) :\n",
    "    print(x)"
   ]
  },
  {
   "cell_type": "code",
   "execution_count": null,
   "id": "85db1d7c",
   "metadata": {},
   "outputs": [],
   "source": []
  }
 ],
 "metadata": {
  "kernelspec": {
   "display_name": "Python 3 (ipykernel)",
   "language": "python",
   "name": "python3"
  },
  "language_info": {
   "codemirror_mode": {
    "name": "ipython",
    "version": 3
   },
   "file_extension": ".py",
   "mimetype": "text/x-python",
   "name": "python",
   "nbconvert_exporter": "python",
   "pygments_lexer": "ipython3",
   "version": "3.10.9"
  }
 },
 "nbformat": 4,
 "nbformat_minor": 5
}
