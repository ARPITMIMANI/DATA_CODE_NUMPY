{
 "cells": [
  {
   "cell_type": "code",
   "execution_count": 1,
   "id": "c229260a",
   "metadata": {},
   "outputs": [
    {
     "name": "stdout",
     "output_type": "stream",
     "text": [
      "2.3012989023072947\n"
     ]
    }
   ],
   "source": [
    "'''\n",
    "HYPERBOLIC FUNCTIONS : NUMPY PROVIDES THE ufunc() LIKE sinh() , cosh() , tanh() THAT TAKES VALUES IN RADIANS \n",
    "AND PRODUCE THE CORRESPONDING sinh() , cosh() , tanh() VALUES .\n",
    "'''\n",
    "\n",
    "# FIND SINH VALUE OF pi/2 .\n",
    "\n",
    "import numpy as np\n",
    "a1 = np.sinh(np.pi/2)\n",
    "print(a1)"
   ]
  },
  {
   "cell_type": "code",
   "execution_count": 2,
   "id": "f8f4f433",
   "metadata": {},
   "outputs": [
    {
     "name": "stdout",
     "output_type": "stream",
     "text": [
      "2.5091784786580567\n"
     ]
    }
   ],
   "source": [
    "# FIND COSH VALUE OF pi/2 .\n",
    "\n",
    "import numpy as np\n",
    "a2 = np.cosh(np.pi/2)\n",
    "print(a2)"
   ]
  },
  {
   "cell_type": "code",
   "execution_count": 3,
   "id": "0e52a18d",
   "metadata": {},
   "outputs": [
    {
     "name": "stdout",
     "output_type": "stream",
     "text": [
      "0.9171523356672744\n"
     ]
    }
   ],
   "source": [
    "# FIND TANH VALUE OF pi/2 .\n",
    "\n",
    "import numpy as np\n",
    "a3 = np.tanh(np.pi/2)\n",
    "print(a3)"
   ]
  },
  {
   "cell_type": "code",
   "execution_count": 4,
   "id": "c8f7d8dd",
   "metadata": {},
   "outputs": [
    {
     "name": "stdout",
     "output_type": "stream",
     "text": [
      "[1.24936705 0.86867096 0.670484   0.54785347 0.46401763 0.40287038]\n"
     ]
    }
   ],
   "source": [
    "# FIND SINH VALUE OF AN ARRAY .\n",
    "\n",
    "import numpy as np\n",
    "b1 = np.array ([  np.pi/3 , np.pi/4 , np.pi/5 , np.pi/6 , np.pi/7 , np.pi/8 ])\n",
    "xyz = np.sinh(b1)\n",
    "print(xyz)"
   ]
  },
  {
   "cell_type": "code",
   "execution_count": 5,
   "id": "8e0a3892",
   "metadata": {},
   "outputs": [
    {
     "name": "stdout",
     "output_type": "stream",
     "text": [
      "[1.60028686 1.32460909 1.20397209 1.14023832 1.10241207 1.07810229]\n"
     ]
    }
   ],
   "source": [
    "# FIND COSH VALUE OF AN ARRAY .\n",
    "\n",
    "import numpy as np\n",
    "b2 = np.array ([  np.pi/3 , np.pi/4 , np.pi/5 , np.pi/6 , np.pi/7 , np.pi/8 ])\n",
    "xyz = np.cosh(b2)\n",
    "print(xyz)"
   ]
  },
  {
   "cell_type": "code",
   "execution_count": 6,
   "id": "05da3b61",
   "metadata": {},
   "outputs": [
    {
     "name": "stdout",
     "output_type": "stream",
     "text": [
      "[0.78071444 0.6557942  0.55689331 0.48047278 0.42091124 0.37368475]\n"
     ]
    }
   ],
   "source": [
    "# FIND TANH VALUE OF AN ARRAY .\n",
    "\n",
    "import numpy as np\n",
    "b3 = np.array ([  np.pi/3 , np.pi/4 , np.pi/5 , np.pi/6 , np.pi/7 , np.pi/8 ])\n",
    "xyz = np.tanh(b3)\n",
    "print(xyz)"
   ]
  },
  {
   "cell_type": "code",
   "execution_count": 7,
   "id": "9a8760a4",
   "metadata": {},
   "outputs": [
    {
     "name": "stdout",
     "output_type": "stream",
     "text": [
      "0.881373587019543\n"
     ]
    }
   ],
   "source": [
    "'''\n",
    "NUMPY PROVIDES THE ANGLES OF arcsinh() , arccosh() , arctanh() THAT TAKES VALUES IN RADIANS \n",
    "AND PRODUCE THE CORRESPONDING sinh() , cosh() , tanh() VALUES .\n",
    "'''\n",
    "\n",
    "# FIND ARCSINH ANGLE OF 1.0 .\n",
    "\n",
    "import numpy as np\n",
    "c1 = np.arcsinh(1.0)\n",
    "print(c1)"
   ]
  },
  {
   "cell_type": "code",
   "execution_count": 8,
   "id": "9ee633c9",
   "metadata": {},
   "outputs": [
    {
     "name": "stdout",
     "output_type": "stream",
     "text": [
      "0.0\n"
     ]
    }
   ],
   "source": [
    "# FIND ARCCOSH ANGLE OF 1.0 .\n",
    "\n",
    "import numpy as np\n",
    "c2 = np.arccosh(1.0)\n",
    "print(c2)"
   ]
  },
  {
   "cell_type": "code",
   "execution_count": 9,
   "id": "c8081c81",
   "metadata": {},
   "outputs": [
    {
     "name": "stdout",
     "output_type": "stream",
     "text": [
      "0.1003353477310756\n"
     ]
    }
   ],
   "source": [
    "# FIND ARCTANH ANGLE OF 1.0 .\n",
    "\n",
    "import numpy as np\n",
    "c3 = np.arctanh(0.1)\n",
    "print(c3)"
   ]
  },
  {
   "cell_type": "code",
   "execution_count": 10,
   "id": "2c9c373e",
   "metadata": {},
   "outputs": [
    {
     "name": "stdout",
     "output_type": "stream",
     "text": [
      "[-0.48121183 -0.19869011 -0.09983408  0.09983408  0.19869011  0.48121183]\n"
     ]
    }
   ],
   "source": [
    "# FIND ARCSINH ANGLE OF AN ARRAY .\n",
    "\n",
    "import numpy as np\n",
    "d1 = np.array ([ -0.5 , -0.2 , -0.1 , 0.1 , 0.2 , 0.5 ])\n",
    "xyz = np.arcsinh(d1)\n",
    "print(xyz)"
   ]
  },
  {
   "cell_type": "code",
   "execution_count": 11,
   "id": "812d97c4",
   "metadata": {},
   "outputs": [
    {
     "name": "stdout",
     "output_type": "stream",
     "text": [
      "[0.44356825 0.6223625  0.75643291 0.86701473 0.96242365 1.04696792]\n"
     ]
    }
   ],
   "source": [
    "# FIND ARCCOSH ANGLE OF AN ARRAY .\n",
    "\n",
    "import numpy as np\n",
    "d2 = np.array ([ 1.1 , 1.2 , 1.3 , 1.4 , 1.5 , 1.6 ])\n",
    "xyz = np.arccosh(d2)\n",
    "print(xyz)"
   ]
  },
  {
   "cell_type": "code",
   "execution_count": 12,
   "id": "65d63d75",
   "metadata": {},
   "outputs": [
    {
     "name": "stdout",
     "output_type": "stream",
     "text": [
      "[-0.54930614 -0.20273255 -0.10033535  0.10033535  0.20273255  0.54930614]\n"
     ]
    }
   ],
   "source": [
    "# FIND ARCTANH ANGLE OF AN ARRAY .\n",
    "\n",
    "import numpy as np\n",
    "d3 = np.array ([ -0.5 , -0.2 , -0.1 , 0.1 , 0.2 , 0.5 ])\n",
    "xyz = np.arctanh(d3)\n",
    "print(xyz)"
   ]
  },
  {
   "cell_type": "code",
   "execution_count": null,
   "id": "f7704bf4",
   "metadata": {},
   "outputs": [],
   "source": []
  }
 ],
 "metadata": {
  "kernelspec": {
   "display_name": "Python 3 (ipykernel)",
   "language": "python",
   "name": "python3"
  },
  "language_info": {
   "codemirror_mode": {
    "name": "ipython",
    "version": 3
   },
   "file_extension": ".py",
   "mimetype": "text/x-python",
   "name": "python",
   "nbconvert_exporter": "python",
   "pygments_lexer": "ipython3",
   "version": "3.10.9"
  }
 },
 "nbformat": 4,
 "nbformat_minor": 5
}
