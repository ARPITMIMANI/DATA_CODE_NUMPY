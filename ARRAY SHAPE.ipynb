{
 "cells": [
  {
   "cell_type": "code",
   "execution_count": 1,
   "id": "17988154",
   "metadata": {},
   "outputs": [
    {
     "name": "stdout",
     "output_type": "stream",
     "text": [
      "[[1 2 3 4]\n",
      " [5 6 7 8]]\n",
      "THE SHAPE OF ARRAY : (2, 4)\n"
     ]
    }
   ],
   "source": [
    "# SHAPE OF ARRAY : IT IS THE NUMBER OF ELEMENTS IN EACH DIMENSIONS .\n",
    "\n",
    "import numpy as np\n",
    "a = np.array ([ [1,2,3,4] , [5,6,7,8] ])\n",
    "print(a)\n",
    "print ( \"THE SHAPE OF ARRAY :\" , a.shape )\n",
    "\n",
    "# SHAPE (2,4) WHICH MEANS ARRAY HAS 2 DIMENSIONS AND ARRAY HAS 4 ELEMENTS ."
   ]
  },
  {
   "cell_type": "code",
   "execution_count": 2,
   "id": "9e0a829f",
   "metadata": {},
   "outputs": [
    {
     "name": "stdout",
     "output_type": "stream",
     "text": [
      "[[[[[1 2 3 4]]]]]\n",
      "THE SHAPE OF ARRAY : (1, 1, 1, 1, 4)\n"
     ]
    }
   ],
   "source": [
    "# CREATE FIVE DIMENSIONAL ARRAY USING ndmin() .\n",
    "\n",
    "b = np.array ( [1,2,3,4] , ndmin=5 )\n",
    "print(b)\n",
    "print ( \"THE SHAPE OF ARRAY :\" , b.shape )"
   ]
  },
  {
   "cell_type": "code",
   "execution_count": 3,
   "id": "713c191d",
   "metadata": {},
   "outputs": [
    {
     "name": "stdout",
     "output_type": "stream",
     "text": [
      "[[[[[[1 2 3]\n",
      "     [4 5 6]]]]]]\n",
      "THE SHAPE OF ARRAY : (1, 1, 1, 1, 2, 3)\n"
     ]
    }
   ],
   "source": [
    "# CREATE SIX DIMENSIONAL ARRAY USING ndmin() .\n",
    "\n",
    "c = np.array ( [ [1,2,3] , [4,5,6] ] , ndmin=6 )\n",
    "print(c)\n",
    "print ( \"THE SHAPE OF ARRAY :\" , c.shape )"
   ]
  },
  {
   "cell_type": "code",
   "execution_count": null,
   "id": "dcbe5154",
   "metadata": {},
   "outputs": [],
   "source": []
  }
 ],
 "metadata": {
  "kernelspec": {
   "display_name": "Python 3 (ipykernel)",
   "language": "python",
   "name": "python3"
  },
  "language_info": {
   "codemirror_mode": {
    "name": "ipython",
    "version": 3
   },
   "file_extension": ".py",
   "mimetype": "text/x-python",
   "name": "python",
   "nbconvert_exporter": "python",
   "pygments_lexer": "ipython3",
   "version": "3.10.9"
  }
 },
 "nbformat": 4,
 "nbformat_minor": 5
}
