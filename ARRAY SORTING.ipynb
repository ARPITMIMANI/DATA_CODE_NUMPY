{
 "cells": [
  {
   "cell_type": "code",
   "execution_count": 1,
   "id": "4e72122d",
   "metadata": {},
   "outputs": [
    {
     "name": "stdout",
     "output_type": "stream",
     "text": [
      "[32 34 36 38 40 42 44 46 48 50]\n"
     ]
    }
   ],
   "source": [
    "# sort() IS USED TO SORT OR ORDER A SPECIFIED ARRAY .\n",
    "# ORDER CAN DONE BE IN ASCENDING OR DESCENDING WAY .\n",
    "# SORT THE ARRAY NUMERICALLY .\n",
    "\n",
    "import numpy as np\n",
    "a1 = np.array([38,44,34,40,48,36,50,32,42,46])\n",
    "a2 = np.sort(a1)\n",
    "print(a2)\n",
    "\n",
    "# sort() IS SOME WHAT LIKE AS copy() ."
   ]
  },
  {
   "cell_type": "code",
   "execution_count": 2,
   "id": "2913f6a4",
   "metadata": {},
   "outputs": [
    {
     "name": "stdout",
     "output_type": "stream",
     "text": [
      "['ACE' 'BEN' 'DAX' 'FOX' 'JIM' 'LEO' 'OAK' 'RIO' 'TOM' 'VAN']\n"
     ]
    }
   ],
   "source": [
    "# SORT THE ARRAY ALPHABETICALLY .\n",
    "\n",
    "b1 = np.array ([ \"LEO\"  , \"BEN\" , \"VAN\" , \"ACE\" , \"RIO\" , \"TOM\" , \"JIM\" , \"DAX\" , \"FOX\" , \"OAK\" ])\n",
    "b2 = np.sort(b1)\n",
    "print(b2)"
   ]
  },
  {
   "cell_type": "code",
   "execution_count": 3,
   "id": "194cc823",
   "metadata": {},
   "outputs": [
    {
     "name": "stdout",
     "output_type": "stream",
     "text": [
      "[False False False  True  True  True]\n"
     ]
    }
   ],
   "source": [
    "# SORT THE BOOLEAN ARRAY .\n",
    "\n",
    "c1 = np.array ([ True , False , True , False , True , False ])\n",
    "c2 = np.sort(c1)\n",
    "print(c2)"
   ]
  },
  {
   "cell_type": "code",
   "execution_count": 4,
   "id": "ff24cd81",
   "metadata": {},
   "outputs": [
    {
     "name": "stdout",
     "output_type": "stream",
     "text": [
      "[[31 32 33 34 35]\n",
      " [36 37 38 39 40]\n",
      " [41 42 43 44 45]\n",
      " [46 47 48 49 50]]\n"
     ]
    }
   ],
   "source": [
    "# SORT THE TWO DIMENSIONAL ARRAY .\n",
    "\n",
    "d1 = np.array ([ [34,32,35,31,33] , [38,39,36,40,37] , [43,45,41,42,44] , [48,46,50,47,49]  ])\n",
    "d2 = np.sort(d1)\n",
    "print(d2)"
   ]
  },
  {
   "cell_type": "code",
   "execution_count": 5,
   "id": "b89ecc9c",
   "metadata": {},
   "outputs": [
    {
     "name": "stdout",
     "output_type": "stream",
     "text": [
      "['1' '10' '2' '3' '4' '5' '6' '7' '8' '9' 'ACE' 'BEN' 'DAX' 'FOX' 'JIM'\n",
      " 'LEO' 'OAK' 'RIO' 'TOM' 'VAN']\n"
     ]
    }
   ],
   "source": [
    "e1 = np.array ([ \"LEO\"  , \"BEN\" , \"VAN\" , \"ACE\" , \"RIO\" , \"TOM\" , \"JIM\" , \"DAX\" , \"FOX\" , \"OAK\" , \n",
    "                6 , 8 , 3 , 10 , 1 , 7 , 2 , 9 , 5 , 4 ])\n",
    "e2 = np.sort(e1)\n",
    "print(e2)"
   ]
  },
  {
   "cell_type": "code",
   "execution_count": null,
   "id": "0a27e992",
   "metadata": {},
   "outputs": [],
   "source": []
  }
 ],
 "metadata": {
  "kernelspec": {
   "display_name": "Python 3 (ipykernel)",
   "language": "python",
   "name": "python3"
  },
  "language_info": {
   "codemirror_mode": {
    "name": "ipython",
    "version": 3
   },
   "file_extension": ".py",
   "mimetype": "text/x-python",
   "name": "python",
   "nbconvert_exporter": "python",
   "pygments_lexer": "ipython3",
   "version": "3.10.9"
  }
 },
 "nbformat": 4,
 "nbformat_minor": 5
}
